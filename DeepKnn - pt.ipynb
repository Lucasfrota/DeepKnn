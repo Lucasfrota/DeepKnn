{
 "cells": [
  {
   "cell_type": "markdown",
   "metadata": {},
   "source": [
    "# Deep KNN\n",
    "\n",
    "Este notebook tem como objetivo propor uma maneira alternativa de realizar classificação de imagens com deep learning, atravez da combinação de redes neurais profundas pretreinadas e da tecnica Knn. Esta combinação visa unir os beneficios da representação hierarquica de uma rede neural ja treinada com a necessidade de menos dados menos dados de um Knn. "
   ]
  },
  {
   "cell_type": "markdown",
   "metadata": {},
   "source": [
    "# Modelo proposto\n",
    "\n",
    "### Arquitetura\n",
    "\n",
    "O modelo aqui proposto consiste na utilização de uma rede pretreinada chamada [InceptionV3](https://keras.io/applications/#inceptionv3) sem sua ultima camada (predictions) e uma implementação do algoritimo Knn, desta forma a saida da rede neural deixa de ser a classificação original e passa a ser um vetor de 2048 posições que sera utilizado como entrada para o Knn.\n",
    "\n",
    "### Fase de treino\n",
    "\n",
    "Para realizar o treinamento o dataset de treino deve passar pela rede neural no sentido forward e o seu resultado deve ser passado ao Knn com a sua respectiva classe para treina-lo.\n",
    "\n",
    "### Fase de predição\n",
    "\n",
    "A realização da predição é bem similar a realização do treino, para ser classificada uma foto deve percorrer toda a rede neural no sentido forward e sua saida de deve ser passada ao Knn que ira finalmente realizar a classificação em si."
   ]
  },
  {
   "cell_type": "markdown",
   "metadata": {},
   "source": [
    "# Imports\n",
    "\n",
    "Aqui estão contidas todas as bibliotecas importadas neste projeto"
   ]
  },
  {
   "cell_type": "code",
   "execution_count": 4,
   "metadata": {},
   "outputs": [
    {
     "name": "stderr",
     "output_type": "stream",
     "text": [
      "Using TensorFlow backend.\n"
     ]
    }
   ],
   "source": [
    "import keras\n",
    "from keras.preprocessing.image import ImageDataGenerator\n",
    "from keras.models import Model\n",
    "\n",
    "import keras.applications.inception_v3 as iv3\n",
    "\n",
    "import numpy as np\n",
    "\n",
    "from sklearn.neighbors import KNeighborsClassifier\n",
    "from sklearn.metrics import accuracy_score, confusion_matrix, f1_score\n",
    "\n",
    "import matplotlib.pyplot as plt\n",
    "%matplotlib inline"
   ]
  },
  {
   "cell_type": "markdown",
   "metadata": {},
   "source": [
    "# Coleta e tratamento de dados\n",
    "\n",
    "## Sobre os dados\n",
    "\n",
    "Neste trabalho iremos utilizar o dataset [Dogs vs. Cats](https://www.kaggle.com/c/dogs-vs-cats) que pode ser obitido a partir de kaggle, este dataset contem 25,000 fotos de cães e gatos, este dataset foi criado fundamentalmente para que fosse possivel treinar algoritimos capazes de distuinguir de forma precisa um cachorro de um gato, e aqui nos o utilizaremos exatamente desta forma :)\n",
    "\n",
    "## divisão dos dados\n",
    "\n",
    "Os dados seram divididos em dois grupos, treino e teste, partindo do presuposto de que a rede pretreinada realizara um bom preprocessamento nos dados aqui adotaremos um holdout com proporções diferentes das tradicionais, utilizaremos aproximadamente 5%(50 instancias) dos dados para treino e 95%(800 instancias) para teste, sendo que cada grupo possui exatamente uma metade classificada como gato e a outra como cachorro."
   ]
  },
  {
   "cell_type": "markdown",
   "metadata": {},
   "source": [
    "### Dados de treino"
   ]
  },
  {
   "cell_type": "code",
   "execution_count": 5,
   "metadata": {},
   "outputs": [
    {
     "name": "stdout",
     "output_type": "stream",
     "text": [
      "Found 50 images belonging to 2 classes.\n"
     ]
    }
   ],
   "source": [
    "datagen = ImageDataGenerator(rescale=1./255)\n",
    "\n",
    "short_train = datagen.flow_from_directory('./short_train',\n",
    "                                          target_size=(299, 299),\n",
    "                                          batch_size=50,\n",
    "                                          class_mode='categorical')"
   ]
  },
  {
   "cell_type": "code",
   "execution_count": 6,
   "metadata": {},
   "outputs": [],
   "source": [
    "X_train, y_train = next(short_train)"
   ]
  },
  {
   "cell_type": "markdown",
   "metadata": {},
   "source": [
    "### Dados de teste"
   ]
  },
  {
   "cell_type": "code",
   "execution_count": 7,
   "metadata": {},
   "outputs": [
    {
     "name": "stdout",
     "output_type": "stream",
     "text": [
      "Found 800 images belonging to 2 classes.\n"
     ]
    }
   ],
   "source": [
    "teste_images = datagen.flow_from_directory('./animals_test',\n",
    "                                           target_size=(299, 299),\n",
    "                                           batch_size=800,\n",
    "                                           class_mode='categorical')"
   ]
  },
  {
   "cell_type": "code",
   "execution_count": 8,
   "metadata": {},
   "outputs": [],
   "source": [
    "X_test, y_test = next(teste_images)"
   ]
  },
  {
   "cell_type": "markdown",
   "metadata": {},
   "source": [
    "# Montagem do modelo\n",
    "\n",
    "## Corte na rede inception pretreinada\n",
    "\n",
    "Aqui sera importado o modelo base citado anteriormente"
   ]
  },
  {
   "cell_type": "code",
   "execution_count": 9,
   "metadata": {},
   "outputs": [],
   "source": [
    "base_model = iv3.InceptionV3(weights='imagenet')"
   ]
  },
  {
   "cell_type": "markdown",
   "metadata": {},
   "source": [
    "O novo modelo tera todos os pesos de todas as camadas do modelo pretreinado com excessão da ultima camada que foi retirada"
   ]
  },
  {
   "cell_type": "code",
   "execution_count": 10,
   "metadata": {},
   "outputs": [],
   "source": [
    "deep_featuring_model = Model(inputs=base_model.input, \n",
    "                             outputs=base_model.get_layer('avg_pool').output)"
   ]
  },
  {
   "cell_type": "markdown",
   "metadata": {},
   "source": [
    "# Preprocessamento"
   ]
  },
  {
   "cell_type": "markdown",
   "metadata": {},
   "source": [
    "Aqui faremos a primeira parte da faze de treinamento como descrita no item [Fase de treino](#Fase-de-treino) portanto passaremos todas as fotos do conjunto de treino pela rede neural que realizará o preprocessamento. Como um dos objetivos deste documento é comparar esta abordagem com outras aqui nos mediremos o tempo"
   ]
  },
  {
   "cell_type": "markdown",
   "metadata": {},
   "source": [
    "### Preprocessamento dos dados de treino"
   ]
  },
  {
   "cell_type": "code",
   "execution_count": 11,
   "metadata": {},
   "outputs": [
    {
     "name": "stdout",
     "output_type": "stream",
     "text": [
      "Wall time: 23.4 s\n"
     ]
    }
   ],
   "source": [
    "%%time\n",
    "features = deep_featuring_model.predict(X_train)"
   ]
  },
  {
   "cell_type": "markdown",
   "metadata": {},
   "source": [
    "Para facilitar a leitura dos resultados susbstituiremos o vetor de tamanho 2 por uma string que indica se há um gato ou um cachorro na imagem"
   ]
  },
  {
   "cell_type": "code",
   "execution_count": 20,
   "metadata": {},
   "outputs": [],
   "source": [
    "y_train = [ \"dog\" if str(label) == \"[0. 1.]\" else \"cat\" for label in y_train ]"
   ]
  },
  {
   "cell_type": "markdown",
   "metadata": {},
   "source": [
    "### Preprocessamento dos dados de teste"
   ]
  },
  {
   "cell_type": "code",
   "execution_count": 23,
   "metadata": {},
   "outputs": [
    {
     "name": "stdout",
     "output_type": "stream",
     "text": [
      "Wall time: 5min 42s\n"
     ]
    }
   ],
   "source": [
    "%%time\n",
    "features_test = deep_featuring_model.predict(X_test)"
   ]
  },
  {
   "cell_type": "code",
   "execution_count": 26,
   "metadata": {},
   "outputs": [],
   "source": [
    "y_test = [ \"dog\" if str(label) == \"[0. 1.]\" else \"cat\" for label in y_test ]"
   ]
  },
  {
   "cell_type": "markdown",
   "metadata": {},
   "source": [
    "# Treinamento do Knn com features preprocessadas"
   ]
  },
  {
   "cell_type": "code",
   "execution_count": 22,
   "metadata": {},
   "outputs": [
    {
     "data": {
      "text/plain": [
       "KNeighborsClassifier(algorithm='auto', leaf_size=30, metric='minkowski',\n",
       "           metric_params=None, n_jobs=1, n_neighbors=5, p=2,\n",
       "           weights='uniform')"
      ]
     },
     "execution_count": 22,
     "metadata": {},
     "output_type": "execute_result"
    }
   ],
   "source": [
    "clf = KNeighborsClassifier(5)\n",
    "clf.fit(features, y_train)"
   ]
  },
  {
   "cell_type": "markdown",
   "metadata": {},
   "source": [
    "# Fase de teste do modelo proposto"
   ]
  },
  {
   "cell_type": "code",
   "execution_count": 24,
   "metadata": {},
   "outputs": [],
   "source": [
    "pred_y = clf.predict(features_test)"
   ]
  },
  {
   "cell_type": "code",
   "execution_count": 27,
   "metadata": {},
   "outputs": [
    {
     "data": {
      "text/plain": [
       "0.9775"
      ]
     },
     "execution_count": 27,
     "metadata": {},
     "output_type": "execute_result"
    }
   ],
   "source": [
    "accuracy_score(y_test, pred_y)"
   ]
  },
  {
   "cell_type": "code",
   "execution_count": 28,
   "metadata": {},
   "outputs": [
    {
     "data": {
      "text/plain": [
       "array([[387,  13],\n",
       "       [  5, 395]], dtype=int64)"
      ]
     },
     "execution_count": 28,
     "metadata": {},
     "output_type": "execute_result"
    }
   ],
   "source": [
    "confusion_matrix(y_test, pred_y)"
   ]
  }
 ],
 "metadata": {
  "kernelspec": {
   "display_name": "Python 3",
   "language": "python",
   "name": "python3"
  },
  "language_info": {
   "codemirror_mode": {
    "name": "ipython",
    "version": 3
   },
   "file_extension": ".py",
   "mimetype": "text/x-python",
   "name": "python",
   "nbconvert_exporter": "python",
   "pygments_lexer": "ipython3",
   "version": "3.6.6"
  }
 },
 "nbformat": 4,
 "nbformat_minor": 2
}
