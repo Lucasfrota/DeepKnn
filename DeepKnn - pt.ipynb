{
 "cells": [
  {
   "cell_type": "markdown",
   "metadata": {},
   "source": [
    "# Deep KNN\n",
    "\n",
    "Este notebook tem como objetivo propor uma maneira alternativa de realizar classificação de imagens com deep learning, atravez da combinação de redes neurais profundas pretreinadas e da tecnica Knn. Esta combinação visa unir os beneficios da representação hierarquica de uma rede neural ja treinada com a necessidade de menos dados menos dados de um Knn. "
   ]
  },
  {
   "cell_type": "markdown",
   "metadata": {},
   "source": [
    "# Modelo proposto\n",
    "\n",
    "### Arquitetura\n",
    "\n",
    "O modelo aqui proposto consiste na utilização de uma rede pretreinada chamada [InceptionV3](https://keras.io/applications/#inceptionv3) sem sua ultima camada (predictions) e uma implementação do algoritimo Knn, desta forma a saida da rede neural deixa de ser a classificação original e passa a ser um vetor de 2048 posições que sera utilizado como entrada para o Knn.\n",
    "\n",
    "### Fase de treino\n",
    "\n",
    "Para realizar o treinamento o dataset de treino deve passar pela rede neural no sentido forward e o seu resultado deve ser passado ao Knn com a sua respectiva classe para treina-lo.\n",
    "\n",
    "### Fase de teste e predição\n",
    "\n",
    "A realização da predição é bem similar a realização do treino, para ser classificada uma foto deve percorrer toda a rede neural no sentido forward e sua saida de deve ser passada ao Knn que ira finalmente realizar a classificação em si."
   ]
  },
  {
   "cell_type": "markdown",
   "metadata": {},
   "source": [
    "# Imports\n",
    "\n",
    "Aqui estão contidas todas as bibliotecas importadas neste projeto"
   ]
  },
  {
   "cell_type": "code",
   "execution_count": 246,
   "metadata": {},
   "outputs": [],
   "source": [
    "import keras\n",
    "from keras.preprocessing.image import ImageDataGenerator\n",
    "from keras.layers import Dense, GlobalAveragePooling2D\n",
    "from keras.models import Model\n",
    "\n",
    "import keras.applications.inception_v3 as iv3\n",
    "\n",
    "import numpy as np\n",
    "\n",
    "import pandas as pd\n",
    "\n",
    "import seaborn as sns\n",
    "\n",
    "from sklearn.neighbors import KNeighborsClassifier\n",
    "from sklearn.metrics import accuracy_score, confusion_matrix, f1_score\n",
    "from sklearn.decomposition import PCA\n",
    "\n",
    "import matplotlib.pyplot as plt\n",
    "%matplotlib inline"
   ]
  },
  {
   "cell_type": "markdown",
   "metadata": {},
   "source": [
    "# Funções"
   ]
  },
  {
   "cell_type": "code",
   "execution_count": 85,
   "metadata": {},
   "outputs": [],
   "source": [
    "def get_array_classes(y):\n",
    "    new_y = []\n",
    "    for item in y:\n",
    "        if(item[0] > item[1]):\n",
    "            new_y.append(\"cat\")\n",
    "        else:\n",
    "            new_y.append(\"dog\")\n",
    "            \n",
    "    return np.array(new_y)"
   ]
  },
  {
   "cell_type": "code",
   "execution_count": 273,
   "metadata": {},
   "outputs": [],
   "source": [
    "def plot_2d_representation(df, title):\n",
    "    plt.scatter(df.x[df.label == \"cat\"], \n",
    "                df.y[df.label == \"cat\"], \n",
    "                c=\"r\", \n",
    "                label=\"cat\")\n",
    "\n",
    "\n",
    "    plt.scatter(df.x[df.label == \"dog\"], \n",
    "                df.y[df.label == \"dog\"],\n",
    "                c=\"b\", \n",
    "                label=\"dog\")\n",
    "\n",
    "    plt.title(title)\n",
    "    plt.legend()\n",
    "    plt.show()"
   ]
  },
  {
   "cell_type": "markdown",
   "metadata": {},
   "source": [
    "# Variáveis globais"
   ]
  },
  {
   "cell_type": "code",
   "execution_count": 201,
   "metadata": {},
   "outputs": [],
   "source": [
    "batch_size = 16\n",
    "img_width, img_height = 299, 299\n",
    "pca = PCA(n_components=2)"
   ]
  },
  {
   "cell_type": "markdown",
   "metadata": {},
   "source": [
    "# Coleta e tratamento de dados\n",
    "\n",
    "## Sobre os dados\n",
    "\n",
    "Neste trabalho iremos utilizar o dataset [Dogs vs. Cats](https://www.kaggle.com/c/dogs-vs-cats) que pode ser obitido a partir de kaggle, este dataset contem 25.000 fotos de cães e gatos, e foi criado fundamentalmente para que treinar algoritimos capazes de distuinguir de forma precisa um cachorro de um gato em uma imagem, e aqui nos o utilizaremos exatamente desta forma :). Nestes testes todas as fotos serão interpretadas como tensores de dimensões 299x299x3.\n",
    "\n",
    "## divisão dos dados\n",
    "\n",
    "Os dados seram divididos em dois grupos, treino e teste, partindo do presuposto de que a rede pretreinada realizara um bom preprocessamento nos dados aqui adotaremos um holdout com proporções diferentes das tradicionais, utilizaremos aproximadamente 5%(50 instancias) dos dados para treino e 95%(800 instancias) para teste, sendo que cada grupo possui exatamente uma metade classificada como gato e a outra como cachorro."
   ]
  },
  {
   "cell_type": "markdown",
   "metadata": {},
   "source": [
    "### Dados de treino"
   ]
  },
  {
   "cell_type": "code",
   "execution_count": 26,
   "metadata": {},
   "outputs": [
    {
     "name": "stdout",
     "output_type": "stream",
     "text": [
      "Found 50 images belonging to 2 classes.\n"
     ]
    }
   ],
   "source": [
    "datagen = ImageDataGenerator(rescale=1./255)\n",
    "\n",
    "short_train = datagen.flow_from_directory('./short_train',\n",
    "                                          target_size=(img_width, img_height),\n",
    "                                          batch_size=50,\n",
    "                                          class_mode='categorical')"
   ]
  },
  {
   "cell_type": "code",
   "execution_count": 69,
   "metadata": {},
   "outputs": [],
   "source": [
    "X_train, raw_y_train = next(short_train)"
   ]
  },
  {
   "cell_type": "markdown",
   "metadata": {},
   "source": [
    "### Dados de teste"
   ]
  },
  {
   "cell_type": "code",
   "execution_count": 32,
   "metadata": {},
   "outputs": [
    {
     "name": "stdout",
     "output_type": "stream",
     "text": [
      "Found 800 images belonging to 2 classes.\n"
     ]
    }
   ],
   "source": [
    "teste_images = datagen.flow_from_directory('./animals_test',\n",
    "                                           target_size=(img_width, img_width),\n",
    "                                           batch_size=800,\n",
    "                                           class_mode='categorical')"
   ]
  },
  {
   "cell_type": "code",
   "execution_count": 70,
   "metadata": {},
   "outputs": [],
   "source": [
    "X_test, raw_y_test = next(teste_images)"
   ]
  },
  {
   "cell_type": "markdown",
   "metadata": {},
   "source": [
    "# Montagem do modelo\n",
    "\n",
    "## Corte na rede inception pretreinada\n",
    "\n",
    "Aqui sera importado o modelo base citado anteriormente."
   ]
  },
  {
   "cell_type": "code",
   "execution_count": 138,
   "metadata": {},
   "outputs": [],
   "source": [
    "base_model = iv3.InceptionV3(weights='imagenet')"
   ]
  },
  {
   "cell_type": "markdown",
   "metadata": {},
   "source": [
    "O novo modelo tera todos os pesos de todas as camadas do modelo pretreinado com excessão da ultima camada que foi retirada no trecho de código abaixo."
   ]
  },
  {
   "cell_type": "code",
   "execution_count": 139,
   "metadata": {},
   "outputs": [],
   "source": [
    "deep_featuring_model = Model(inputs=base_model.input, \n",
    "                             outputs=base_model.get_layer('avg_pool').output)"
   ]
  },
  {
   "cell_type": "markdown",
   "metadata": {},
   "source": [
    "# Preprocessamento"
   ]
  },
  {
   "cell_type": "markdown",
   "metadata": {},
   "source": [
    "Aqui faremos a primeira parte da faze de treinamento como descrita no item [Fase de treino](#Fase-de-treino) portanto passaremos todas as fotos do conjunto de treino pela rede neural que realizará o preprocessamento. Como um dos objetivos deste documento é comparar esta abordagem com outras aqui nos mediremos o tempo (O tempo ira variar de acordo com as especificações do computador utilizado, as configurações do computador utilizado nos testes se encontram ao final deste notebook)."
   ]
  },
  {
   "cell_type": "markdown",
   "metadata": {},
   "source": [
    "### Preprocessamento dos dados de treino"
   ]
  },
  {
   "cell_type": "markdown",
   "metadata": {},
   "source": [
    "Para mostra de uma forma intuitiva o modo como os dados originais estão distribuidos no espaço nos utilizaremos um algoritimo chamado PCA que ia reduzir a dimensionalidade dos dados de tal forma que eles poderam ser vistos em um grafico de duas dimensões"
   ]
  },
  {
   "cell_type": "code",
   "execution_count": 274,
   "metadata": {},
   "outputs": [
    {
     "data": {
      "image/png": "[encoded data removed]",
      "text/plain": [
       "<Figure size 432x288 with 1 Axes>"
      ]
     },
     "metadata": {},
     "output_type": "display_data"
    }
   ],
   "source": [
    "original_data = pca.fit_transform(X_train.reshape((50, 268203))).T\n",
    "original_data_df = pd.DataFrame(data={\"x\":original_data[0], \n",
    "                                      \"y\":original_data[1], \n",
    "                                      \"label\":y_train})\n",
    "\n",
    "plot_2d_representation(original_data_df, \"Dados puros\")"
   ]
  },
  {
   "cell_type": "markdown",
   "metadata": {},
   "source": [
    "Cada ponto do grafico acima representa uma das imagens que sera utilizada na fase de treinamento, a partir dele é possivel ver que os dados sem nenhum tratamento estão muito misturados no espaço."
   ]
  },
  {
   "cell_type": "code",
   "execution_count": 140,
   "metadata": {},
   "outputs": [
    {
     "name": "stdout",
     "output_type": "stream",
     "text": [
      "Wall time: 33 s\n"
     ]
    }
   ],
   "source": [
    "%%time\n",
    "features = deep_featuring_model.predict(X_train)"
   ]
  },
  {
   "cell_type": "markdown",
   "metadata": {},
   "source": [
    "Uma vez que os dados originais foram preprocessados é possivel aplicar PCA novamente para verificar se o preprocessamento organizou melhor os pontos no espaço"
   ]
  },
  {
   "cell_type": "code",
   "execution_count": 275,
   "metadata": {},
   "outputs": [
    {
     "data": {
      "image/png": "[encoded data removed]",
      "text/plain": [
       "<Figure size 432x288 with 1 Axes>"
      ]
     },
     "metadata": {},
     "output_type": "display_data"
    }
   ],
   "source": [
    "preprocessed_features = pca.fit_transform(features).T\n",
    "preprocessed_features_df = pd.DataFrame(data={\"x\":preprocessed_features[0], \n",
    "                                              \"y\":preprocessed_features[1], \n",
    "                                              \"label\":y_train})\n",
    "\n",
    "plot_2d_representation(preprocessed_features_df, \"Dados pré processamento\")"
   ]
  },
  {
   "cell_type": "markdown",
   "metadata": {},
   "source": [
    "Neste novo gráfico é possivel ver que os dados estão visivelmente mais organizados no espaço, por isso é possivel classificar um novo ponto ate mesmo de forma puramente visual com certa precisão, desta forma não é difícil imaginar que um algoritimo baseado em espaço ira ter facilidade de performar uma classificação sobre esses dados."
   ]
  },
  {
   "cell_type": "markdown",
   "metadata": {},
   "source": [
    "Para facilitar a leitura dos resultados susbstituiremos o vetor de formato (2,) que indicava a classe da imagem por uma vetor de strings."
   ]
  },
  {
   "cell_type": "code",
   "execution_count": 141,
   "metadata": {},
   "outputs": [],
   "source": [
    "y_train = [ \"dog\" if str(label) == \"[0. 1.]\" else \"cat\" for label in raw_y_train ]"
   ]
  },
  {
   "cell_type": "markdown",
   "metadata": {},
   "source": [
    "### Preprocessamento dos dados de teste"
   ]
  },
  {
   "cell_type": "code",
   "execution_count": 142,
   "metadata": {
    "scrolled": true
   },
   "outputs": [
    {
     "name": "stdout",
     "output_type": "stream",
     "text": [
      "Wall time: 7min 1s\n"
     ]
    }
   ],
   "source": [
    "%%time\n",
    "features_test = deep_featuring_model.predict(X_test)"
   ]
  },
  {
   "cell_type": "code",
   "execution_count": 143,
   "metadata": {},
   "outputs": [],
   "source": [
    "y_test = [ \"dog\" if str(label) == \"[0. 1.]\" else \"cat\" for label in raw_y_test ]"
   ]
  },
  {
   "cell_type": "markdown",
   "metadata": {},
   "source": [
    "# Treinamento do Knn"
   ]
  },
  {
   "cell_type": "markdown",
   "metadata": {},
   "source": [
    "Aqui iremos realizar o treino do KNN com as features que foram preprocessadas pelo modelo pretreinado."
   ]
  },
  {
   "cell_type": "code",
   "execution_count": 144,
   "metadata": {},
   "outputs": [
    {
     "name": "stdout",
     "output_type": "stream",
     "text": [
      "Wall time: 453 ms\n"
     ]
    }
   ],
   "source": [
    "%%time\n",
    "clf = KNeighborsClassifier(5)\n",
    "clf.fit(features, y_train)"
   ]
  },
  {
   "cell_type": "markdown",
   "metadata": {},
   "source": [
    "# Fase de teste do modelo proposto"
   ]
  },
  {
   "cell_type": "code",
   "execution_count": 145,
   "metadata": {},
   "outputs": [],
   "source": [
    "pred_y = clf.predict(features_test)"
   ]
  },
  {
   "cell_type": "markdown",
   "metadata": {},
   "source": [
    "## Acurácia"
   ]
  },
  {
   "cell_type": "code",
   "execution_count": 146,
   "metadata": {},
   "outputs": [
    {
     "data": {
      "text/plain": [
       "0.9775"
      ]
     },
     "execution_count": 146,
     "metadata": {},
     "output_type": "execute_result"
    }
   ],
   "source": [
    "accuracy_score(y_test, pred_y)"
   ]
  },
  {
   "cell_type": "markdown",
   "metadata": {},
   "source": [
    "## Matriz de confusão"
   ]
  },
  {
   "cell_type": "code",
   "execution_count": 147,
   "metadata": {},
   "outputs": [
    {
     "data": {
      "text/plain": [
       "array([[387,  13],\n",
       "       [  5, 395]], dtype=int64)"
      ]
     },
     "execution_count": 147,
     "metadata": {},
     "output_type": "execute_result"
    }
   ],
   "source": [
    "confusion_matrix(y_test, pred_y)"
   ]
  },
  {
   "cell_type": "markdown",
   "metadata": {},
   "source": [
    "## Desenpenho na predição\n",
    "\n",
    "Uma vez que foi possível medir a qualidade da previsão é necessário medir a velocidade em que uma previsão é feita, para isso iremos tirar uma media do tempo que leva para classificar uma unica imagem."
   ]
  },
  {
   "cell_type": "code",
   "execution_count": 256,
   "metadata": {},
   "outputs": [],
   "source": [
    "single_image = X_test[0:1]"
   ]
  },
  {
   "cell_type": "code",
   "execution_count": 258,
   "metadata": {},
   "outputs": [
    {
     "data": {
      "text/plain": [
       "<matplotlib.image.AxesImage at 0x26509c01588>"
      ]
     },
     "execution_count": 258,
     "metadata": {},
     "output_type": "execute_result"
    },
    {
     "data": {
      "image/png": "[encoded data removed]",
      "text/plain": [
       "<Figure size 432x288 with 1 Axes>"
      ]
     },
     "metadata": {},
     "output_type": "display_data"
    }
   ],
   "source": [
    "plt.imshow(single_image[0])"
   ]
  },
  {
   "cell_type": "code",
   "execution_count": 259,
   "metadata": {},
   "outputs": [
    {
     "name": "stdout",
     "output_type": "stream",
     "text": [
      "Classificação: dog\n"
     ]
    }
   ],
   "source": [
    "print(\"Classificação: \" + clf.predict(deep_featuring_model.predict(single_image))[0])"
   ]
  },
  {
   "cell_type": "code",
   "execution_count": 269,
   "metadata": {
    "scrolled": true
   },
   "outputs": [
    {
     "name": "stdout",
     "output_type": "stream",
     "text": [
      "627 ms ± 18 ms per loop (mean ± std. dev. of 7 runs, 1 loop each)\n"
     ]
    }
   ],
   "source": [
    "%%timeit\n",
    "clf.predict(deep_featuring_model.predict(single_image))"
   ]
  },
  {
   "cell_type": "markdown",
   "metadata": {},
   "source": [
    "# Modelo de comparação\n",
    "\n",
    "Apesar de os resultados acima serem bem animadores é necessário compara-los com outras abordagens, por isso iremos criar um outro modelo que ira desempenhar a mesma tarefa porem com uma abordagem mais comum, utilizaremos o mesmo modelo pretreinado sem algumas camadas porem desta vez adicionaremos mais camadas no fianl da rede neural e treinaremos apenas esssas novas camadas."
   ]
  },
  {
   "cell_type": "markdown",
   "metadata": {},
   "source": [
    "## Monstagem do modelo"
   ]
  },
  {
   "cell_type": "code",
   "execution_count": 59,
   "metadata": {},
   "outputs": [],
   "source": [
    "comp_base_model = iv3.InceptionV3(weights='imagenet', include_top=False)"
   ]
  },
  {
   "cell_type": "markdown",
   "metadata": {},
   "source": [
    "Agora que ja possuimos o modelo sem suas ultimas camadas é necessário adicionar as novas camadas e congelar as demais camadas para evitar que os seus pesos sejam atualizados, isso sera feitos nas proximas duas celulas"
   ]
  },
  {
   "cell_type": "code",
   "execution_count": 65,
   "metadata": {},
   "outputs": [],
   "source": [
    "x = comp_base_model.output\n",
    "x = GlobalAveragePooling2D()(x)\n",
    "x = Dense(1024, activation='relu')(x)\n",
    "predictions = Dense(2, activation='softmax')(x)\n",
    "\n",
    "comp_model = Model(inputs=comp_base_model.input, outputs=predictions)"
   ]
  },
  {
   "cell_type": "code",
   "execution_count": 66,
   "metadata": {},
   "outputs": [],
   "source": [
    "for layer in comp_base_model.layers:\n",
    "    layer.trainable = False"
   ]
  },
  {
   "cell_type": "markdown",
   "metadata": {},
   "source": [
    "## Treninamento"
   ]
  },
  {
   "cell_type": "code",
   "execution_count": 114,
   "metadata": {},
   "outputs": [],
   "source": [
    "comp_model.compile(optimizer='rmsprop', loss='categorical_crossentropy', metrics=['accuracy'])"
   ]
  },
  {
   "cell_type": "code",
   "execution_count": 115,
   "metadata": {
    "scrolled": true
   },
   "outputs": [
    {
     "name": "stdout",
     "output_type": "stream",
     "text": [
      "Epoch 1/10\n",
      "50/50 [==============================] - 26s 528ms/step - loss: 8.0590 - acc: 0.5000\n",
      "Epoch 2/10\n",
      "50/50 [==============================] - 20s 402ms/step - loss: 8.0590 - acc: 0.5000\n",
      "Epoch 3/10\n",
      "50/50 [==============================] - 20s 400ms/step - loss: 8.0590 - acc: 0.5000\n",
      "Epoch 4/10\n",
      "50/50 [==============================] - 20s 403ms/step - loss: 8.0590 - acc: 0.5000\n",
      "Epoch 5/10\n",
      "50/50 [==============================] - 20s 401ms/step - loss: 8.0590 - acc: 0.5000\n",
      "Epoch 6/10\n",
      "50/50 [==============================] - 20s 398ms/step - loss: 8.0590 - acc: 0.5000\n",
      "Epoch 7/10\n",
      "50/50 [==============================] - 20s 399ms/step - loss: 8.0590 - acc: 0.5000\n",
      "Epoch 8/10\n",
      "50/50 [==============================] - 20s 401ms/step - loss: 8.0590 - acc: 0.5000\n",
      "Epoch 9/10\n",
      "50/50 [==============================] - 20s 408ms/step - loss: 8.0590 - acc: 0.5000\n",
      "Epoch 10/10\n",
      "50/50 [==============================] - 20s 407ms/step - loss: 8.0590 - acc: 0.5000\n",
      "Wall time: 3min 28s\n"
     ]
    },
    {
     "data": {
      "text/plain": [
       "<keras.callbacks.History at 0x2654ee49470>"
      ]
     },
     "execution_count": 115,
     "metadata": {},
     "output_type": "execute_result"
    }
   ],
   "source": [
    "%%time\n",
    "comp_model.fit(X_train, raw_y_train, epochs=10, batch_size=8)"
   ]
  },
  {
   "cell_type": "code",
   "execution_count": 116,
   "metadata": {},
   "outputs": [
    {
     "name": "stdout",
     "output_type": "stream",
     "text": [
      "Wall time: 7min 26s\n"
     ]
    }
   ],
   "source": [
    "%%time\n",
    "comp_pred_y = comp_model.predict(X_test)"
   ]
  },
  {
   "cell_type": "code",
   "execution_count": 110,
   "metadata": {},
   "outputs": [],
   "source": [
    "new_comp_pred_y = get_array_classes(comp_pred_y)\n",
    "new_comp_y_test = get_array_classes(y_test)"
   ]
  },
  {
   "cell_type": "markdown",
   "metadata": {},
   "source": [
    "## Testes do modelo"
   ]
  },
  {
   "cell_type": "code",
   "execution_count": 255,
   "metadata": {},
   "outputs": [
    {
     "data": {
      "text/plain": [
       "0.5"
      ]
     },
     "execution_count": 255,
     "metadata": {},
     "output_type": "execute_result"
    }
   ],
   "source": [
    "accuracy_score(new_comp_pred_y, new_comp_y_test)"
   ]
  },
  {
   "cell_type": "code",
   "execution_count": 112,
   "metadata": {},
   "outputs": [
    {
     "data": {
      "text/plain": [
       "array([[400, 400],\n",
       "       [  0,   0]], dtype=int64)"
      ]
     },
     "execution_count": 112,
     "metadata": {},
     "output_type": "execute_result"
    }
   ],
   "source": [
    "confusion_matrix(new_comp_pred_y, new_comp_y_test)"
   ]
  },
  {
   "cell_type": "markdown",
   "metadata": {},
   "source": [
    "## Desenpenho na previsão"
   ]
  },
  {
   "cell_type": "code",
   "execution_count": 270,
   "metadata": {},
   "outputs": [
    {
     "name": "stdout",
     "output_type": "stream",
     "text": [
      "618 ms ± 9.28 ms per loop (mean ± std. dev. of 7 runs, 1 loop each)\n"
     ]
    }
   ],
   "source": [
    "%%timeit\n",
    "comp_model.predict(single_image)"
   ]
  },
  {
   "cell_type": "markdown",
   "metadata": {},
   "source": [
    "# Considerações finais"
   ]
  },
  {
   "cell_type": "markdown",
   "metadata": {},
   "source": [
    "Apesar de as diferenças de desempenho serem grintantes é importante ter em mente que esses resultados não são absolutos, algumas modificações simples no treinamento do segundo modelo, como usar imagens com dimensões menores por exemplo, gerariam resultados muito mais proximos do que foi visto no modelo proposto.\n",
    "\n",
    "O tempo de previsão é outro fator que deve ser levado em consideração, o modelo proposto levou pouco mais de meio segundo para classificar uma imagem, apesar de ter mostrado uma acuracia satisfatória ele se mostrou mutio lento e portando seu uso em tarefaza como analese video em tempo real é desencorajado."
   ]
  },
  {
   "cell_type": "markdown",
   "metadata": {},
   "source": [
    "# Informações adicionais\n",
    "\n",
    "Especificações do computador utilizado nos testes:\n",
    "\n",
    "- Processador: Intel(R) Core(TM) i7-7700HQ CPU @ 2.80GHz 2.81GHz\n",
    "- RAM: 8.00 GB\n",
    "- SO: Windows 10 Home Single Language\n",
    "\n",
    "Todos os testes foram realizados utilizando apenas a CPU"
   ]
  }
 ],
 "metadata": {
  "kernelspec": {
   "display_name": "Python 3",
   "language": "python",
   "name": "python3"
  },
  "language_info": {
   "codemirror_mode": {
    "name": "ipython",
    "version": 3
   },
   "file_extension": ".py",
   "mimetype": "text/x-python",
   "name": "python",
   "nbconvert_exporter": "python",
   "pygments_lexer": "ipython3",
   "version": "3.6.6"
  }
 },
 "nbformat": 4,
 "nbformat_minor": 2
}
