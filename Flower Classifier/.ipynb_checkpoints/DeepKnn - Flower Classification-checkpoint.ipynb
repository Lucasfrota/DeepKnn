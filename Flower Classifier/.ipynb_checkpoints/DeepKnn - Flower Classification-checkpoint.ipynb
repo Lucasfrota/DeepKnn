{
 "cells": [
  {
   "cell_type": "markdown",
   "metadata": {
    "colab_type": "text",
    "id": "fGObJwhtpwkY"
   },
   "source": [
    "# Deep KNN\n",
    "\n",
    "Este notebook tem como objetivo propor uma maneira alternativa de realizar classificação de imagens com deep learning, atravez da combinação de redes neurais profundas pretreinadas e da tecnica Knn. Esta combinação visa unir os beneficios da representação hierarquica de uma rede neural ja treinada com a necessidade de menos dados menos dados de um Knn. "
   ]
  },
  {
   "cell_type": "markdown",
   "metadata": {
    "colab_type": "text",
    "id": "V5RvPwPKpwkZ"
   },
   "source": [
    "# Modelo proposto\n",
    "\n",
    "### Arquitetura\n",
    "\n",
    "O modelo aqui proposto consiste na utilização de uma rede pretreinada chamada [InceptionV3](https://keras.io/applications/#inceptionv3) sem sua ultima camada (predictions) e uma implementação do algoritimo Knn, desta forma a saida da rede neural deixa de ser a classificação original e passa a ser um vetor de 2048 posições que sera utilizado como entrada para o Knn.\n",
    "\n",
    "### Fase de treino\n",
    "\n",
    "Para realizar o treinamento o dataset de treino deve passar pela rede neural no sentido forward e o seu resultado deve ser passado ao Knn com a sua respectiva classe para treina-lo.\n",
    "\n",
    "### Fase de teste e predição\n",
    "\n",
    "A realização da predição é bem similar a realização do treino, para ser classificada uma foto deve percorrer toda a rede neural no sentido forward e sua saida de deve ser passada ao Knn que ira finalmente realizar a classificação em si."
   ]
  },
  {
   "cell_type": "markdown",
   "metadata": {
    "colab_type": "text",
    "id": "dWopkpHOpwkZ"
   },
   "source": [
    "# Imports\n",
    "\n",
    "Aqui estão contidas todas as bibliotecas importadas neste projeto"
   ]
  },
  {
   "cell_type": "code",
   "execution_count": 0,
   "metadata": {
    "colab": {},
    "colab_type": "code",
    "collapsed": true,
    "id": "Q9mpmKCZpwka"
   },
   "outputs": [],
   "source": [
    "import keras\n",
    "from keras.preprocessing.image import ImageDataGenerator\n",
    "from keras.layers import Dense, GlobalAveragePooling2D\n",
    "from keras.models import Model\n",
    "\n",
    "import keras.applications.inception_v3 as iv3\n",
    "\n",
    "import numpy as np\n",
    "\n",
    "import pandas as pd\n",
    "\n",
    "from sklearn.neighbors import KNeighborsClassifier\n",
    "from sklearn.metrics import accuracy_score, confusion_matrix, f1_score\n",
    "from sklearn.decomposition import PCA\n",
    "\n",
    "import matplotlib.pyplot as plt\n",
    "%matplotlib inline"
   ]
  },
  {
   "cell_type": "markdown",
   "metadata": {
    "colab_type": "text",
    "id": "39WTQA2Upwkd"
   },
   "source": [
    "# Funções"
   ]
  },
  {
   "cell_type": "code",
   "execution_count": 0,
   "metadata": {
    "colab": {},
    "colab_type": "code",
    "collapsed": true,
    "id": "d3xZUIeZpwke"
   },
   "outputs": [],
   "source": [
    "def get_array_classes(y):\n",
    "    new_y = []\n",
    "    for item in y:\n",
    "        if(item[0] > item[1]):\n",
    "            new_y.append(\"sunflower\")\n",
    "        else:\n",
    "            new_y.append(\"tulip\")\n",
    "            \n",
    "    return np.array(new_y)"
   ]
  },
  {
   "cell_type": "code",
   "execution_count": 0,
   "metadata": {
    "colab": {},
    "colab_type": "code",
    "collapsed": true,
    "id": "qXueLd-bpwkh"
   },
   "outputs": [],
   "source": [
    "def plot_2d_representation(df, title, file_name=None):\n",
    "    plt.scatter(df.x[df.label == \"sunflower\"], \n",
    "                df.y[df.label == \"sunflower\"], \n",
    "                c=\"r\", \n",
    "                label=\"sunflower\")\n",
    "\n",
    "\n",
    "    plt.scatter(df.x[df.label == \"tulip\"], \n",
    "                df.y[df.label == \"tulip\"],\n",
    "                c=\"b\", \n",
    "                label=\"tulip\")\n",
    "\n",
    "    plt.title(title)\n",
    "    plt.legend()\n",
    "    \n",
    "    if(file_name != None):\n",
    "        try:\n",
    "            os.makedirs(\"video_frames\")\n",
    "        except:\n",
    "            pass\n",
    "        plt.savefig(\"./video_frames/\" + file_name)\n",
    "    \n",
    "    plt.show()\n",
    "    "
   ]
  },
  {
   "cell_type": "markdown",
   "metadata": {
    "colab_type": "text",
    "id": "OXkOzMGJpwki"
   },
   "source": [
    "# Variáveis globais"
   ]
  },
  {
   "cell_type": "code",
   "execution_count": 0,
   "metadata": {
    "colab": {},
    "colab_type": "code",
    "collapsed": true,
    "id": "5v6s444upwkj"
   },
   "outputs": [],
   "source": [
    "batch_size = 16\n",
    "img_width, img_height = 299, 299\n",
    "pca = PCA(n_components=2)\n",
    "train_sample_size = 10\n",
    "test_sample_size = 400"
   ]
  },
  {
   "cell_type": "markdown",
   "metadata": {
    "colab_type": "text",
    "id": "8Lu2S04Tpwkl"
   },
   "source": [
    "# Coleta e tratamento de dados\n",
    "\n",
    "## Sobre os dados\n",
    "\n",
    "Neste trabalho iremos utilizar o dataset [Flowers Recognition](https://www.kaggle.com/alxmamaev/flowers-recognition/home) que pode ser obitido a partir de kaggle, este dataset contem 4242 fotos de cinco variedades de flores: daisy, daisy, daisy, sunflower e sunflower. Nestes testes utilizaremos apenas duas dessas classes: sunflower e tulip,aqui todas as fotos serão interpretadas como tensores de dimensões 299x299x3.\n",
    "\n",
    "## divisão dos dados\n",
    "\n",
    "Os dados serão divididos em dois grupos, treino e teste, partindo do presuposto de que a rede pré treinada realizará um bom pré processamento nos dados aqui adotaremos um holdout com proporções diferentes das tradicionais, utilizaremos aproximadamente 5%(50 instancias) dos dados para treino e 95%(800 instancias) para teste, sendo que cada grupo possui exatamente uma metade classificada como sunflower e a outra como tulip."
   ]
  },
  {
   "cell_type": "markdown",
   "metadata": {
    "colab_type": "text",
    "id": "NvWt02SXpwkm"
   },
   "source": [
    "### Dados de treino"
   ]
  },
  {
   "cell_type": "code",
   "execution_count": 0,
   "metadata": {
    "colab": {},
    "colab_type": "code",
    "id": "Vd2KB1qbpwkn",
    "outputId": "1fc91559-5f0a-496f-8df4-c135822c0ee8"
   },
   "outputs": [
    {
     "name": "stdout",
     "output_type": "stream",
     "text": [
      "Found 50 images belonging to 2 classes.\n"
     ]
    }
   ],
   "source": [
    "datagen = ImageDataGenerator(rescale=1./255)\n",
    "\n",
    "short_train = datagen.flow_from_directory('./flowers_train',\n",
    "                                          target_size=(img_width, img_height),\n",
    "                                          batch_size=50,\n",
    "                                          class_mode='categorical')"
   ]
  },
  {
   "cell_type": "code",
   "execution_count": 0,
   "metadata": {
    "colab": {},
    "colab_type": "code",
    "collapsed": true,
    "id": "AmQPUYk1pwkr",
    "scrolled": true
   },
   "outputs": [],
   "source": [
    "X_train, raw_y_train = next(short_train)"
   ]
  },
  {
   "cell_type": "markdown",
   "metadata": {
    "colab_type": "text",
    "id": "-AwD5_c3pwks"
   },
   "source": [
    "### Dados de teste"
   ]
  },
  {
   "cell_type": "code",
   "execution_count": 0,
   "metadata": {
    "colab": {},
    "colab_type": "code",
    "id": "IAGHPYEPpwku",
    "outputId": "976c0465-974d-4236-b3c2-88815c5a4c80"
   },
   "outputs": [
    {
     "name": "stdout",
     "output_type": "stream",
     "text": [
      "Found 800 images belonging to 2 classes.\n"
     ]
    }
   ],
   "source": [
    "teste_images = datagen.flow_from_directory('./flowers_test',\n",
    "                                           target_size=(img_width, img_width),\n",
    "                                           batch_size=800,\n",
    "                                           class_mode='categorical')"
   ]
  },
  {
   "cell_type": "code",
   "execution_count": 0,
   "metadata": {
    "colab": {},
    "colab_type": "code",
    "collapsed": true,
    "id": "F0TfkMEopwkw"
   },
   "outputs": [],
   "source": [
    "X_test, raw_y_test = next(teste_images)"
   ]
  },
  {
   "cell_type": "markdown",
   "metadata": {
    "colab_type": "text",
    "id": "-WqxYHqapwkz"
   },
   "source": [
    "# Montagem do modelo\n",
    "\n",
    "## Corte na rede inception pretreinada\n",
    "\n",
    "Aqui sera importado o modelo base citado anteriormente."
   ]
  },
  {
   "cell_type": "code",
   "execution_count": 0,
   "metadata": {
    "colab": {},
    "colab_type": "code",
    "collapsed": true,
    "id": "GNGvQXTPpwkz"
   },
   "outputs": [],
   "source": [
    "base_model = iv3.InceptionV3(weights='imagenet')"
   ]
  },
  {
   "cell_type": "markdown",
   "metadata": {
    "colab_type": "text",
    "id": "LVeCz-Fwpwk2"
   },
   "source": [
    "O novo modelo tera todos os pesos de todas as camadas do modelo pretreinado com excessão da ultima camada que foi retirada no trecho de código abaixo."
   ]
  },
  {
   "cell_type": "code",
   "execution_count": 0,
   "metadata": {
    "colab": {},
    "colab_type": "code",
    "collapsed": true,
    "id": "1WrhrUCWpwk2"
   },
   "outputs": [],
   "source": [
    "deep_featuring_model = Model(inputs=base_model.input, \n",
    "                             outputs=base_model.get_layer('avg_pool').output)"
   ]
  },
  {
   "cell_type": "markdown",
   "metadata": {
    "colab_type": "text",
    "id": "Z5tBAV1Jpwk6"
   },
   "source": [
    "# Preprocessamento"
   ]
  },
  {
   "cell_type": "markdown",
   "metadata": {
    "colab_type": "text",
    "id": "bCia1_QKpwk6"
   },
   "source": [
    "Aqui faremos a primeira parte da faze de treinamento como descrita no item [Fase de treino](#Fase-de-treino) portanto passaremos todas as fotos do conjunto de treino pela rede neural que realizará o preprocessamento. Como um dos objetivos deste documento é comparar esta abordagem com outras aqui nos mediremos o tempo (O tempo ira variar de acordo com as especificações do computador utilizado, as configurações do computador utilizado nos testes se encontram ao final deste notebook)."
   ]
  },
  {
   "cell_type": "markdown",
   "metadata": {
    "colab_type": "text",
    "id": "Nj9TS7U_pwk6"
   },
   "source": [
    "Para facilitar a leitura dos resultados susbstituiremos o vetor de formato (2,) que indicava a classe da imagem por uma vetor de strings."
   ]
  },
  {
   "cell_type": "code",
   "execution_count": 0,
   "metadata": {
    "colab": {},
    "colab_type": "code",
    "collapsed": true,
    "id": "NmORGXtTpwk7"
   },
   "outputs": [],
   "source": [
    "y_train = [ \"tulip\" if str(label) == \"[0. 1.]\" else \"sunflower\" for label in raw_y_train ]\n",
    "y_test  = [ \"tulip\" if str(label) == \"[0. 1.]\" else \"sunflower\" for label in raw_y_test  ]"
   ]
  },
  {
   "cell_type": "markdown",
   "metadata": {
    "colab_type": "text",
    "id": "tVw5rHYypwk9"
   },
   "source": [
    "### Preprocessamento dos dados de treino"
   ]
  },
  {
   "cell_type": "markdown",
   "metadata": {
    "colab_type": "text",
    "id": "Hre4_LwQpwk_"
   },
   "source": [
    "Para mostra de uma forma intuitiva o modo como os dados originais estão distribuidos no espaço nos utilizaremos um algoritimo chamado PCA que ia reduzir a dimensionalidade dos dados de tal forma que eles poderam ser vistos em um grafico de duas dimensões"
   ]
  },
  {
   "cell_type": "code",
   "execution_count": 0,
   "metadata": {
    "colab": {},
    "colab_type": "code",
    "id": "C8R2mXlapwlA",
    "outputId": "b4049878-210d-46c0-ec4a-9f8d2d2ac7dc"
   },
   "outputs": [
    {
     "data": {
      "image/png": "[encoded data removed]",
      "text/plain": [
       "<Figure size 432x288 with 1 Axes>"
      ]
     },
     "metadata": {
      "tags": []
     },
     "output_type": "display_data"
    }
   ],
   "source": [
    "original_data = pca.fit_transform(X_train.reshape((50, 268203))).T\n",
    "original_data_df = pd.DataFrame(data={\"x\":original_data[0], \n",
    "                                      \"y\":original_data[1], \n",
    "                                      \"label\":y_train})\n",
    "\n",
    "plot_2d_representation(original_data_df, \"Dados puros\")"
   ]
  },
  {
   "cell_type": "markdown",
   "metadata": {
    "colab_type": "text",
    "id": "rabi_-2WpwlE"
   },
   "source": [
    "Cada ponto do grafico acima representa uma das imagens que sera utilizada na fase de treinamento, a partir dele é possivel ver que os dados sem nenhum tratamento estão muito misturados no espaço."
   ]
  },
  {
   "cell_type": "code",
   "execution_count": 0,
   "metadata": {
    "colab": {},
    "colab_type": "code",
    "id": "SZLF8yr5pwlG",
    "outputId": "575948bf-74e7-4c7a-e9c0-b716f344be00"
   },
   "outputs": [
    {
     "name": "stdout",
     "output_type": "stream",
     "text": [
      "Wall time: 26.9 s\n"
     ]
    }
   ],
   "source": [
    "%%time\n",
    "features = deep_featuring_model.predict(X_train)"
   ]
  },
  {
   "cell_type": "markdown",
   "metadata": {
    "colab_type": "text",
    "id": "rEGXDBYnpwlK"
   },
   "source": [
    "Uma vez que os dados originais foram preprocessados é possivel aplicar PCA novamente para verificar se o preprocessamento organizou melhor os pontos no espaço"
   ]
  },
  {
   "cell_type": "code",
   "execution_count": 0,
   "metadata": {
    "colab": {},
    "colab_type": "code",
    "id": "wHtXKINkpwlL",
    "outputId": "ec0e995d-436a-48fb-da33-3dd279d602ab"
   },
   "outputs": [
    {
     "data": {
      "image/png": "[encoded data removed]",
      "text/plain": [
       "<Figure size 432x288 with 1 Axes>"
      ]
     },
     "metadata": {
      "tags": []
     },
     "output_type": "display_data"
    }
   ],
   "source": [
    "preprocessed_features = pca.fit_transform(features).T\n",
    "preprocessed_features_df = pd.DataFrame(data={\"x\":preprocessed_features[0], \n",
    "                                              \"y\":preprocessed_features[1], \n",
    "                                              \"label\":y_train})\n",
    "\n",
    "plot_2d_representation(preprocessed_features_df, \"Dados pré processamento\")"
   ]
  },
  {
   "cell_type": "markdown",
   "metadata": {
    "colab_type": "text",
    "id": "MW4niMelpwlN"
   },
   "source": [
    "Neste novo gráfico é possivel ver que os dados estão visivelmente mais organizados no espaço, por isso é possivel classificar um novo ponto ate mesmo de forma puramente visual com certa precisão, desta forma não é difícil imaginar que um algoritimo baseado em espaço ira ter facilidade de performar uma classificação sobre esses dados."
   ]
  },
  {
   "cell_type": "markdown",
   "metadata": {
    "colab_type": "text",
    "id": "O5Eh8jdapwlO"
   },
   "source": [
    "### Preprocessamento dos dados de teste"
   ]
  },
  {
   "cell_type": "code",
   "execution_count": 0,
   "metadata": {
    "colab": {},
    "colab_type": "code",
    "id": "SO9zbaVWpwlO",
    "outputId": "1df8e7a8-dd6c-47b3-e53e-c57f64f76daf",
    "scrolled": true
   },
   "outputs": [
    {
     "name": "stdout",
     "output_type": "stream",
     "text": [
      "Wall time: 5min 48s\n"
     ]
    }
   ],
   "source": [
    "%%time\n",
    "features_test = deep_featuring_model.predict(X_test)"
   ]
  },
  {
   "cell_type": "markdown",
   "metadata": {
    "colab_type": "text",
    "id": "zeFeFC1npwlR"
   },
   "source": [
    "# Treinamento do Knn"
   ]
  },
  {
   "cell_type": "markdown",
   "metadata": {
    "colab_type": "text",
    "id": "heR_baXzpwlR"
   },
   "source": [
    "Aqui iremos realizar o treino do KNN com as features que foram preprocessadas pelo modelo pretreinado."
   ]
  },
  {
   "cell_type": "code",
   "execution_count": 0,
   "metadata": {
    "colab": {},
    "colab_type": "code",
    "id": "AcwbM3YkpwlS",
    "outputId": "bacb9a2a-2a5b-4231-a4c9-8c5ad8fd78be"
   },
   "outputs": [
    {
     "name": "stdout",
     "output_type": "stream",
     "text": [
      "Wall time: 0 ns\n"
     ]
    }
   ],
   "source": [
    "%%time\n",
    "clf = KNeighborsClassifier(5)\n",
    "clf.fit(features, y_train)"
   ]
  },
  {
   "cell_type": "markdown",
   "metadata": {
    "colab_type": "text",
    "id": "LfatZBrfpwlU"
   },
   "source": [
    "# Fase de teste do modelo proposto"
   ]
  },
  {
   "cell_type": "code",
   "execution_count": 0,
   "metadata": {
    "colab": {},
    "colab_type": "code",
    "collapsed": true,
    "id": "0CS2J9PlpwlU"
   },
   "outputs": [],
   "source": [
    "pred_y = clf.predict(features_test)"
   ]
  },
  {
   "cell_type": "markdown",
   "metadata": {
    "colab_type": "text",
    "id": "htWFFXBtpwlW"
   },
   "source": [
    "## Acurácia"
   ]
  },
  {
   "cell_type": "code",
   "execution_count": 0,
   "metadata": {
    "colab": {},
    "colab_type": "code",
    "id": "kw1R10SqpwlX",
    "outputId": "4d3f4bd9-96c0-40f8-b091-13c769e0cafd"
   },
   "outputs": [
    {
     "data": {
      "text/plain": [
       "0.8425"
      ]
     },
     "execution_count": 35,
     "metadata": {
      "tags": []
     },
     "output_type": "execute_result"
    }
   ],
   "source": [
    "accuracy_score(y_test, pred_y)"
   ]
  },
  {
   "cell_type": "markdown",
   "metadata": {
    "colab_type": "text",
    "id": "zxwf1rIjpwlZ"
   },
   "source": [
    "## Matriz de confusão"
   ]
  },
  {
   "cell_type": "code",
   "execution_count": 0,
   "metadata": {
    "colab": {},
    "colab_type": "code",
    "id": "ziOTLs7npwla",
    "outputId": "83b78092-32a4-41bc-fe81-50e765b7ca5b"
   },
   "outputs": [
    {
     "data": {
      "text/plain": [
       "array([[324,  76],\n",
       "       [ 50, 350]], dtype=int64)"
      ]
     },
     "execution_count": 36,
     "metadata": {
      "tags": []
     },
     "output_type": "execute_result"
    }
   ],
   "source": [
    "confusion_matrix(y_test, pred_y)"
   ]
  },
  {
   "cell_type": "markdown",
   "metadata": {
    "colab_type": "text",
    "id": "AuS8h4zMpwld"
   },
   "source": [
    "## Desenpenho na predição\n",
    "\n",
    "Uma vez que foi possível medir a qualidade da previsão é necessário medir a velocidade em que uma previsão é feita, para isso iremos tirar uma media do tempo que leva para classificar uma unica imagem."
   ]
  },
  {
   "cell_type": "code",
   "execution_count": 0,
   "metadata": {
    "colab": {},
    "colab_type": "code",
    "collapsed": true,
    "id": "OU2MptKdpwld"
   },
   "outputs": [],
   "source": [
    "single_image = X_test[7:8]"
   ]
  },
  {
   "cell_type": "code",
   "execution_count": 0,
   "metadata": {
    "colab": {},
    "colab_type": "code",
    "id": "YMnuX4Vnpwlf",
    "outputId": "0887096b-9771-41fe-b7b3-327da5e2308d"
   },
   "outputs": [
    {
     "data": {
      "text/plain": [
       "<matplotlib.image.AxesImage at 0x253438799b0>"
      ]
     },
     "execution_count": 44,
     "metadata": {
      "tags": []
     },
     "output_type": "execute_result"
    },
    {
     "data": {
      "image/png": "[encoded data removed]",
      "text/plain": [
       "<Figure size 432x288 with 1 Axes>"
      ]
     },
     "metadata": {
      "tags": []
     },
     "output_type": "display_data"
    }
   ],
   "source": [
    "plt.imshow(single_image[0])"
   ]
  },
  {
   "cell_type": "code",
   "execution_count": 0,
   "metadata": {
    "colab": {},
    "colab_type": "code",
    "id": "vMU5-QZApwlj",
    "outputId": "c99bb8de-c706-4727-ad01-aff9fc953399"
   },
   "outputs": [
    {
     "name": "stdout",
     "output_type": "stream",
     "text": [
      "Classificação: tulip\n"
     ]
    }
   ],
   "source": [
    "print(\"Classificação: \" + clf.predict(deep_featuring_model.predict(single_image))[0])"
   ]
  },
  {
   "cell_type": "code",
   "execution_count": 0,
   "metadata": {
    "colab": {},
    "colab_type": "code",
    "id": "ImkWWp2Vpwll",
    "outputId": "7dc8ab0b-08c0-4339-9447-4b111242513b",
    "scrolled": true
   },
   "outputs": [
    {
     "name": "stdout",
     "output_type": "stream",
     "text": [
      "473 ms ± 4.74 ms per loop (mean ± std. dev. of 7 runs, 1 loop each)\n"
     ]
    }
   ],
   "source": [
    "%%timeit\n",
    "clf.predict(deep_featuring_model.predict(single_image))"
   ]
  },
  {
   "cell_type": "markdown",
   "metadata": {
    "colab_type": "text",
    "id": "km3Ek6Nqpwlo"
   },
   "source": [
    "# Modelo de comparação\n",
    "\n",
    "Apesar de os resultados acima serem bem animadores é necessário compara-los com outras abordagens, por isso iremos criar um outro modelo que ira desempenhar a mesma tarefa porem com uma abordagem mais comum, utilizaremos o mesmo modelo pretreinado sem algumas camadas porem desta vez adicionaremos mais camadas no fianl da rede neural e treinaremos apenas esssas novas camadas."
   ]
  },
  {
   "cell_type": "markdown",
   "metadata": {
    "colab_type": "text",
    "id": "n7hMqrj6pwlp"
   },
   "source": [
    "## Monstagem do modelo"
   ]
  },
  {
   "cell_type": "code",
   "execution_count": 0,
   "metadata": {
    "colab": {},
    "colab_type": "code",
    "collapsed": true,
    "id": "25iR6rsSpwlp"
   },
   "outputs": [],
   "source": [
    "comp_base_model = iv3.InceptionV3(weights='imagenet', include_top=False)"
   ]
  },
  {
   "cell_type": "markdown",
   "metadata": {
    "colab_type": "text",
    "id": "CO1SZz-fpwlq"
   },
   "source": [
    "Agora que ja possuimos o modelo sem suas ultimas camadas é necessário adicionar as novas camadas e congelar as demais camadas para evitar que os seus pesos sejam atualizados, isso sera feitos nas proximas duas celulas"
   ]
  },
  {
   "cell_type": "code",
   "execution_count": 0,
   "metadata": {
    "colab": {},
    "colab_type": "code",
    "collapsed": true,
    "id": "BbnPL9Pkpwlq"
   },
   "outputs": [],
   "source": [
    "x = comp_base_model.output\n",
    "x = GlobalAveragePooling2D()(x)\n",
    "x = Dense(64, activation='relu')(x)\n",
    "predictions = Dense(2, activation='softmax')(x)\n",
    "\n",
    "comp_model = Model(inputs=comp_base_model.input, outputs=predictions)"
   ]
  },
  {
   "cell_type": "code",
   "execution_count": 0,
   "metadata": {
    "colab": {},
    "colab_type": "code",
    "collapsed": true,
    "id": "wQrNZLzkpwls"
   },
   "outputs": [],
   "source": [
    "for layer in comp_base_model.layers:\n",
    "    layer.trainable = False"
   ]
  },
  {
   "cell_type": "markdown",
   "metadata": {
    "colab_type": "text",
    "id": "iJj2m5iPpwlu"
   },
   "source": [
    "## Treninamento"
   ]
  },
  {
   "cell_type": "code",
   "execution_count": 0,
   "metadata": {
    "colab": {},
    "colab_type": "code",
    "collapsed": true,
    "id": "kmDGRM3xpwlv"
   },
   "outputs": [],
   "source": [
    "comp_model.compile(optimizer='rmsprop', loss='categorical_crossentropy', metrics=['accuracy'])"
   ]
  },
  {
   "cell_type": "code",
   "execution_count": 0,
   "metadata": {
    "colab": {},
    "colab_type": "code",
    "id": "w_VZyDY4pwlx",
    "outputId": "acf97159-7b7d-4e78-c06b-35395b94678d",
    "scrolled": true
   },
   "outputs": [
    {
     "name": "stdout",
     "output_type": "stream",
     "text": [
      "Epoch 1/30\n",
      "50/50 [==============================] - 21s 413ms/step - loss: 0.8159 - acc: 0.5800\n",
      "Epoch 2/30\n",
      "50/50 [==============================] - 16s 326ms/step - loss: 2.3301 - acc: 0.5800\n",
      "Epoch 3/30\n",
      "50/50 [==============================] - 15s 301ms/step - loss: 0.3474 - acc: 0.8600\n",
      "Epoch 4/30\n",
      "50/50 [==============================] - 15s 301ms/step - loss: 0.6676 - acc: 0.6200\n",
      "Epoch 5/30\n",
      "50/50 [==============================] - 15s 300ms/step - loss: 0.6403 - acc: 0.5600\n",
      "Epoch 6/30\n",
      "50/50 [==============================] - 15s 302ms/step - loss: 0.2416 - acc: 0.9600\n",
      "Epoch 7/30\n",
      "50/50 [==============================] - 15s 304ms/step - loss: 0.3673 - acc: 0.8200\n",
      "Epoch 8/30\n",
      "50/50 [==============================] - 15s 309ms/step - loss: 0.2060 - acc: 0.9400\n",
      "Epoch 9/30\n",
      "50/50 [==============================] - 15s 305ms/step - loss: 0.1449 - acc: 0.9600\n",
      "Epoch 10/30\n",
      "50/50 [==============================] - 15s 305ms/step - loss: 0.3383 - acc: 0.8200\n",
      "Epoch 11/30\n",
      "50/50 [==============================] - 15s 305ms/step - loss: 0.1199 - acc: 1.0000\n",
      "Epoch 12/30\n",
      "50/50 [==============================] - 15s 305ms/step - loss: 0.1331 - acc: 0.9800\n",
      "Epoch 13/30\n",
      "50/50 [==============================] - 15s 306ms/step - loss: 0.0625 - acc: 1.0000\n",
      "Epoch 14/30\n",
      "50/50 [==============================] - 15s 304ms/step - loss: 0.0426 - acc: 1.0000\n",
      "Epoch 15/30\n",
      "50/50 [==============================] - 15s 308ms/step - loss: 0.0482 - acc: 1.0000\n",
      "Epoch 16/30\n",
      "50/50 [==============================] - 16s 315ms/step - loss: 0.3002 - acc: 0.8800\n",
      "Epoch 17/30\n",
      "50/50 [==============================] - 16s 318ms/step - loss: 1.3054 - acc: 0.6000\n",
      "Epoch 18/30\n",
      "50/50 [==============================] - 16s 319ms/step - loss: 0.1006 - acc: 1.0000\n",
      "Epoch 19/30\n",
      "50/50 [==============================] - 16s 317ms/step - loss: 0.0881 - acc: 1.0000\n",
      "Epoch 20/30\n",
      "50/50 [==============================] - 17s 330ms/step - loss: 0.0802 - acc: 1.0000\n",
      "Epoch 21/30\n",
      "50/50 [==============================] - 16s 317ms/step - loss: 0.0274 - acc: 1.0000\n",
      "Epoch 22/30\n",
      "50/50 [==============================] - 16s 315ms/step - loss: 0.0863 - acc: 0.9800\n",
      "Epoch 23/30\n",
      "50/50 [==============================] - 16s 315ms/step - loss: 0.1095 - acc: 0.9800\n",
      "Epoch 24/30\n",
      "50/50 [==============================] - 16s 314ms/step - loss: 0.0234 - acc: 1.0000\n",
      "Epoch 25/30\n",
      "50/50 [==============================] - 16s 315ms/step - loss: 0.0355 - acc: 1.0000\n",
      "Epoch 26/30\n",
      "50/50 [==============================] - 16s 318ms/step - loss: 0.0406 - acc: 1.0000\n",
      "Epoch 27/30\n",
      "50/50 [==============================] - 16s 318ms/step - loss: 0.0340 - acc: 1.0000\n",
      "Epoch 28/30\n",
      "50/50 [==============================] - 16s 317ms/step - loss: 0.0195 - acc: 1.0000\n",
      "Epoch 29/30\n",
      "50/50 [==============================] - 16s 317ms/step - loss: 0.0183 - acc: 1.0000\n",
      "Epoch 30/30\n",
      "50/50 [==============================] - 16s 317ms/step - loss: 0.0133 - acc: 1.0000\n",
      "Wall time: 7min 52s\n"
     ]
    },
    {
     "data": {
      "text/plain": [
       "<keras.callbacks.History at 0x23c334e16d8>"
      ]
     },
     "execution_count": 72,
     "metadata": {
      "tags": []
     },
     "output_type": "execute_result"
    }
   ],
   "source": [
    "%%time\n",
    "comp_model.fit(X_train, raw_y_train, epochs=30)"
   ]
  },
  {
   "cell_type": "code",
   "execution_count": 0,
   "metadata": {
    "colab": {},
    "colab_type": "code",
    "id": "YKziBQ-Hpwl1",
    "outputId": "3d050477-140c-42df-a95d-32d043e2c166"
   },
   "outputs": [
    {
     "name": "stdout",
     "output_type": "stream",
     "text": [
      "Wall time: 6min 9s\n"
     ]
    }
   ],
   "source": [
    "%%time\n",
    "comp_pred_y = comp_model.predict(X_test)"
   ]
  },
  {
   "cell_type": "code",
   "execution_count": 0,
   "metadata": {
    "colab": {},
    "colab_type": "code",
    "collapsed": true,
    "id": "R09KSIdgpwl5"
   },
   "outputs": [],
   "source": [
    "new_comp_pred_y = get_array_classes(comp_pred_y)"
   ]
  },
  {
   "cell_type": "markdown",
   "metadata": {
    "colab_type": "text",
    "id": "2ii1u02vpwl8"
   },
   "source": [
    "## Testes do modelo"
   ]
  },
  {
   "cell_type": "code",
   "execution_count": 0,
   "metadata": {
    "colab": {},
    "colab_type": "code",
    "id": "TgSzRSnqpwl9",
    "outputId": "7d9f21ef-5b2c-4046-87e0-e9a1bce5dc2e"
   },
   "outputs": [
    {
     "data": {
      "text/plain": [
       "0.71625"
      ]
     },
     "execution_count": 75,
     "metadata": {
      "tags": []
     },
     "output_type": "execute_result"
    }
   ],
   "source": [
    "accuracy_score(new_comp_pred_y, y_test)"
   ]
  },
  {
   "cell_type": "code",
   "execution_count": 0,
   "metadata": {
    "colab": {},
    "colab_type": "code",
    "id": "hc1cQTw0pwmA",
    "outputId": "b275ae12-e280-4574-fc22-2d95604ce593"
   },
   "outputs": [
    {
     "data": {
      "text/plain": [
       "array([[391, 218],\n",
       "       [  9, 182]], dtype=int64)"
      ]
     },
     "execution_count": 76,
     "metadata": {
      "tags": []
     },
     "output_type": "execute_result"
    }
   ],
   "source": [
    "confusion_matrix(new_comp_pred_y, y_test)"
   ]
  },
  {
   "cell_type": "markdown",
   "metadata": {
    "colab_type": "text",
    "id": "QsM50doXpwmC"
   },
   "source": [
    "## Desenpenho na previsão"
   ]
  },
  {
   "cell_type": "code",
   "execution_count": 0,
   "metadata": {
    "colab": {},
    "colab_type": "code",
    "id": "TIjytPkUpwmD",
    "outputId": "989e2d68-ebdf-45be-d157-031a302595e0"
   },
   "outputs": [
    {
     "name": "stdout",
     "output_type": "stream",
     "text": [
      "667 ms ± 93.4 ms per loop (mean ± std. dev. of 7 runs, 1 loop each)\n"
     ]
    }
   ],
   "source": [
    "%%timeit\n",
    "comp_model.predict(single_image)"
   ]
  },
  {
   "cell_type": "markdown",
   "metadata": {
    "colab_type": "text",
    "id": "0VjTlbhfpwmG"
   },
   "source": [
    "# Considerações finais"
   ]
  },
  {
   "cell_type": "markdown",
   "metadata": {
    "colab_type": "text",
    "id": "qpD0B5d0pwmH"
   },
   "source": [
    "Apesar de as diferenças de desempenho serem grintantes é importante ter em mente que esses resultados não são absolutos, algumas modificações simples no treinamento do segundo modelo, como usar imagens com dimensões menores por exemplo, gerariam resultados muito mais proximos do que foi visto no modelo proposto.\n",
    "\n",
    "O tempo de previsão é outro fator que deve ser levado em consideração, o modelo proposto levou pouco mais de meio segundo para classificar uma imagem, apesar de ter mostrado uma acuracia satisfatória ele se mostrou mutio lento e portando seu uso em tarefaza como analese video em tempo real é desencorajado."
   ]
  },
  {
   "cell_type": "markdown",
   "metadata": {
    "colab_type": "text",
    "id": "cNe-st3wpwmH"
   },
   "source": [
    "# Informações adicionais\n",
    "\n",
    "Especificações do computador utilizado nos testes:\n",
    "\n",
    "- Processador: Intel(R) Core(TM) i7-7700HQ CPU @ 2.80GHz 2.81GHz\n",
    "- RAM: 8.00 GB\n",
    "- SO: Windows 10 Home Single Language\n",
    "\n",
    "Todos os testes foram realizados utilizando apenas a CPU"
   ]
  }
 ],
 "metadata": {
  "colab": {
   "name": "DeepKnn - Pneumonia classification.ipynb",
   "provenance": [],
   "version": "0.3.2"
  },
  "kernelspec": {
   "display_name": "Python 3",
   "language": "python",
   "name": "python3"
  },
  "language_info": {
   "codemirror_mode": {
    "name": "ipython",
    "version": 3
   },
   "file_extension": ".py",
   "mimetype": "text/x-python",
   "name": "python",
   "nbconvert_exporter": "python",
   "pygments_lexer": "ipython3",
   "version": "3.6.1"
  }
 },
 "nbformat": 4,
 "nbformat_minor": 1
}
