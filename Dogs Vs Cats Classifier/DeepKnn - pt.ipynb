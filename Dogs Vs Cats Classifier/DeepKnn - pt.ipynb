{
 "cells": [
  {
   "cell_type": "markdown",
   "metadata": {},
   "source": [
    "# Deep KNN\n",
    "\n",
    "Este notebook tem como objetivo propor uma maneira alternativa de realizar classificação de imagens com deep learning, atravez da combinação de redes neurais profundas pretreinadas e da tecnica Knn. Esta combinação visa unir os beneficios da representação hierarquica de uma rede neural ja treinada com a necessidade de menos dados menos dados de um Knn. "
   ]
  },
  {
   "cell_type": "markdown",
   "metadata": {},
   "source": [
    "# Modelo proposto\n",
    "\n",
    "### Arquitetura\n",
    "\n",
    "O modelo aqui proposto consiste na utilização de uma rede pretreinada chamada [InceptionV3](https://keras.io/applications/#inceptionv3) sem sua ultima camada (predictions) e uma implementação do algoritimo Knn, desta forma a saida da rede neural deixa de ser a classificação original e passa a ser um vetor de 2048 posições que sera utilizado como entrada para o Knn.\n",
    "\n",
    "### Fase de treino\n",
    "\n",
    "Para realizar o treinamento o dataset de treino deve passar pela rede neural no sentido forward e o seu resultado deve ser passado ao Knn com a sua respectiva classe para treina-lo.\n",
    "\n",
    "### Fase de teste e predição\n",
    "\n",
    "A realização da predição é bem similar a realização do treino, para ser classificada uma foto deve percorrer toda a rede neural no sentido forward e sua saida de deve ser passada ao Knn que ira finalmente realizar a classificação em si."
   ]
  },
  {
   "cell_type": "markdown",
   "metadata": {},
   "source": [
    "# Imports\n",
    "\n",
    "Aqui estão contidas todas as bibliotecas importadas neste projeto"
   ]
  },
  {
   "cell_type": "code",
   "execution_count": 1,
   "metadata": {},
   "outputs": [
    {
     "name": "stderr",
     "output_type": "stream",
     "text": [
      "Using TensorFlow backend.\n"
     ]
    }
   ],
   "source": [
    "import keras\n",
    "from keras.preprocessing.image import ImageDataGenerator\n",
    "from keras.layers import Dense, GlobalAveragePooling2D\n",
    "from keras.models import Model\n",
    "\n",
    "import keras.applications.inception_v3 as iv3\n",
    "\n",
    "import numpy as np\n",
    "\n",
    "import pandas as pd\n",
    "\n",
    "from sklearn.neighbors import KNeighborsClassifier\n",
    "from sklearn.metrics import accuracy_score, confusion_matrix, f1_score\n",
    "from sklearn.decomposition import PCA\n",
    "\n",
    "import matplotlib.pyplot as plt\n",
    "%matplotlib inline"
   ]
  },
  {
   "cell_type": "markdown",
   "metadata": {},
   "source": [
    "# Funções"
   ]
  },
  {
   "cell_type": "code",
   "execution_count": 2,
   "metadata": {},
   "outputs": [],
   "source": [
    "def get_array_classes(y):\n",
    "    new_y = []\n",
    "    for item in y:\n",
    "        if(item[0] > item[1]):\n",
    "            new_y.append(\"cat\")\n",
    "        else:\n",
    "            new_y.append(\"dog\")\n",
    "            \n",
    "    return np.array(new_y)"
   ]
  },
  {
   "cell_type": "code",
   "execution_count": 3,
   "metadata": {},
   "outputs": [],
   "source": [
    "def plot_2d_representation(df, title):\n",
    "    plt.scatter(df.x[df.label == \"cat\"], \n",
    "                df.y[df.label == \"cat\"], \n",
    "                c=\"r\", \n",
    "                label=\"cat\")\n",
    "\n",
    "\n",
    "    plt.scatter(df.x[df.label == \"dog\"], \n",
    "                df.y[df.label == \"dog\"],\n",
    "                c=\"b\", \n",
    "                label=\"dog\")\n",
    "\n",
    "    plt.title(title)\n",
    "    plt.legend()\n",
    "    plt.show()"
   ]
  },
  {
   "cell_type": "markdown",
   "metadata": {},
   "source": [
    "# Variáveis globais"
   ]
  },
  {
   "cell_type": "code",
   "execution_count": 4,
   "metadata": {},
   "outputs": [],
   "source": [
    "batch_size = 16\n",
    "img_width, img_height = 299, 299\n",
    "pca = PCA(n_components=2)"
   ]
  },
  {
   "cell_type": "markdown",
   "metadata": {},
   "source": [
    "# Coleta e tratamento de dados\n",
    "\n",
    "## Sobre os dados\n",
    "\n",
    "Neste trabalho iremos utilizar o dataset [Dogs vs. Cats](https://www.kaggle.com/c/dogs-vs-cats) que pode ser obitido a partir de kaggle, este dataset contem 25.000 fotos de cães e gatos, e foi criado fundamentalmente para que treinar algoritimos capazes de distuinguir de forma precisa um cachorro de um gato em uma imagem, e aqui nos o utilizaremos exatamente desta forma :). Nestes testes todas as fotos serão interpretadas como tensores de dimensões 299x299x3.\n",
    "\n",
    "## divisão dos dados\n",
    "\n",
    "Os dados serão divididos em dois grupos, treino e teste, partindo do presuposto de que a rede pré treinada realizará um bom pré processamento nos dados aqui adotaremos um holdout com proporções diferentes das tradicionais, utilizaremos aproximadamente 2.5%(20 instancias) dos dados para treino e 97.5%(800 instancias) para teste, sendo que cada grupo possui exatamente uma metade classificada como gato e a outra como cachorro."
   ]
  },
  {
   "cell_type": "markdown",
   "metadata": {},
   "source": [
    "### Dados de treino"
   ]
  },
  {
   "cell_type": "code",
   "execution_count": 5,
   "metadata": {},
   "outputs": [
    {
     "name": "stdout",
     "output_type": "stream",
     "text": [
      "Found 20 images belonging to 2 classes.\n"
     ]
    }
   ],
   "source": [
    "datagen = ImageDataGenerator(rescale=1./255)\n",
    "\n",
    "short_train = datagen.flow_from_directory('./shorter_train',#short_train\n",
    "                                          target_size=(img_width, img_height),\n",
    "                                          batch_size=50,\n",
    "                                          class_mode='categorical')"
   ]
  },
  {
   "cell_type": "code",
   "execution_count": 6,
   "metadata": {},
   "outputs": [],
   "source": [
    "X_train, raw_y_train = next(short_train)"
   ]
  },
  {
   "cell_type": "markdown",
   "metadata": {},
   "source": [
    "### Dados de teste"
   ]
  },
  {
   "cell_type": "code",
   "execution_count": 7,
   "metadata": {},
   "outputs": [
    {
     "name": "stdout",
     "output_type": "stream",
     "text": [
      "Found 800 images belonging to 2 classes.\n"
     ]
    }
   ],
   "source": [
    "teste_images = datagen.flow_from_directory('./animals_test',\n",
    "                                           target_size=(img_width, img_width),\n",
    "                                           batch_size=800,\n",
    "                                           class_mode='categorical')"
   ]
  },
  {
   "cell_type": "code",
   "execution_count": 8,
   "metadata": {},
   "outputs": [],
   "source": [
    "X_test, raw_y_test = next(teste_images)"
   ]
  },
  {
   "cell_type": "markdown",
   "metadata": {},
   "source": [
    "# Montagem do modelo\n",
    "\n",
    "## Corte na rede inception pretreinada\n",
    "\n",
    "Aqui sera importado o modelo base citado anteriormente."
   ]
  },
  {
   "cell_type": "code",
   "execution_count": 9,
   "metadata": {},
   "outputs": [],
   "source": [
    "base_model = iv3.InceptionV3(weights='imagenet')"
   ]
  },
  {
   "cell_type": "markdown",
   "metadata": {},
   "source": [
    "O novo modelo tera todos os pesos de todas as camadas do modelo pretreinado com excessão da ultima camada que foi retirada no trecho de código abaixo."
   ]
  },
  {
   "cell_type": "code",
   "execution_count": 10,
   "metadata": {},
   "outputs": [],
   "source": [
    "deep_featuring_model = Model(inputs=base_model.input, \n",
    "                             outputs=base_model.get_layer('avg_pool').output)"
   ]
  },
  {
   "cell_type": "markdown",
   "metadata": {},
   "source": [
    "# Preprocessamento"
   ]
  },
  {
   "cell_type": "markdown",
   "metadata": {},
   "source": [
    "Aqui faremos a primeira parte da faze de treinamento como descrita no item [Fase de treino](#Fase-de-treino) portanto passaremos todas as fotos do conjunto de treino pela rede neural que realizará o preprocessamento. Como um dos objetivos deste documento é comparar esta abordagem com outras aqui nos mediremos o tempo (O tempo ira variar de acordo com as especificações do computador utilizado, as configurações do computador utilizado nos testes se encontram ao final deste notebook)."
   ]
  },
  {
   "cell_type": "markdown",
   "metadata": {},
   "source": [
    "### Preprocessamento dos dados de treino"
   ]
  },
  {
   "cell_type": "markdown",
   "metadata": {},
   "source": [
    "Para mostra de uma forma intuitiva o modo como os dados originais estão distribuidos no espaço nos utilizaremos um algoritimo chamado PCA que ia reduzir a dimensionalidade dos dados de tal forma que eles poderam ser vistos em um grafico de duas dimensões"
   ]
  },
  {
   "cell_type": "code",
   "execution_count": 19,
   "metadata": {},
   "outputs": [
    {
     "data": {
      "image/png": "[encoded data removed]",
      "text/plain": [
       "<Figure size 432x288 with 1 Axes>"
      ]
     },
     "metadata": {},
     "output_type": "display_data"
    }
   ],
   "source": [
    "original_data = pca.fit_transform(X_train.reshape((20, 268203))).T\n",
    "original_data_df = pd.DataFrame(data={\"x\":original_data[0], \n",
    "                                      \"y\":original_data[1], \n",
    "                                      \"label\":y_train})\n",
    "\n",
    "plot_2d_representation(original_data_df, \"Dados puros\")"
   ]
  },
  {
   "cell_type": "markdown",
   "metadata": {},
   "source": [
    "Cada ponto do grafico acima representa uma das imagens que sera utilizada na fase de treinamento, a partir dele é possivel ver que os dados sem nenhum tratamento estão muito misturados no espaço."
   ]
  },
  {
   "cell_type": "code",
   "execution_count": 20,
   "metadata": {},
   "outputs": [
    {
     "name": "stdout",
     "output_type": "stream",
     "text": [
      "Wall time: 9.55 s\n"
     ]
    }
   ],
   "source": [
    "%%time\n",
    "features = deep_featuring_model.predict(X_train)"
   ]
  },
  {
   "cell_type": "markdown",
   "metadata": {},
   "source": [
    "Uma vez que os dados originais foram preprocessados é possivel aplicar PCA novamente para verificar se o preprocessamento organizou melhor os pontos no espaço"
   ]
  },
  {
   "cell_type": "code",
   "execution_count": 21,
   "metadata": {},
   "outputs": [
    {
     "data": {
      "image/png": "[encoded data removed]",
      "text/plain": [
       "<Figure size 432x288 with 1 Axes>"
      ]
     },
     "metadata": {},
     "output_type": "display_data"
    }
   ],
   "source": [
    "preprocessed_features = pca.fit_transform(features).T\n",
    "preprocessed_features_df = pd.DataFrame(data={\"x\":preprocessed_features[0], \n",
    "                                              \"y\":preprocessed_features[1], \n",
    "                                              \"label\":y_train})\n",
    "\n",
    "plot_2d_representation(preprocessed_features_df, \"Dados pré processamento\")"
   ]
  },
  {
   "cell_type": "markdown",
   "metadata": {},
   "source": [
    "Neste novo gráfico é possivel ver que os dados estão visivelmente mais organizados no espaço, por isso é possivel classificar um novo ponto ate mesmo de forma puramente visual com certa precisão, desta forma não é difícil imaginar que um algoritimo baseado em espaço ira ter facilidade de performar uma classificação sobre esses dados."
   ]
  },
  {
   "cell_type": "markdown",
   "metadata": {},
   "source": [
    "Para facilitar a leitura dos resultados susbstituiremos o vetor de formato (2,) que indicava a classe da imagem por uma vetor de strings."
   ]
  },
  {
   "cell_type": "code",
   "execution_count": 22,
   "metadata": {},
   "outputs": [],
   "source": [
    "y_train = [ \"dog\" if str(label) == \"[0. 1.]\" else \"cat\" for label in raw_y_train ]"
   ]
  },
  {
   "cell_type": "markdown",
   "metadata": {},
   "source": [
    "### Preprocessamento dos dados de teste"
   ]
  },
  {
   "cell_type": "code",
   "execution_count": 23,
   "metadata": {
    "scrolled": true
   },
   "outputs": [
    {
     "name": "stdout",
     "output_type": "stream",
     "text": [
      "Wall time: 5min 35s\n"
     ]
    }
   ],
   "source": [
    "%%time\n",
    "features_test = deep_featuring_model.predict(X_test)"
   ]
  },
  {
   "cell_type": "code",
   "execution_count": 24,
   "metadata": {},
   "outputs": [],
   "source": [
    "y_test = [ \"dog\" if str(label) == \"[0. 1.]\" else \"cat\" for label in raw_y_test ]"
   ]
  },
  {
   "cell_type": "markdown",
   "metadata": {},
   "source": [
    "# Treinamento do Knn"
   ]
  },
  {
   "cell_type": "markdown",
   "metadata": {},
   "source": [
    "Aqui iremos realizar o treino do KNN com as features que foram preprocessadas pelo modelo pretreinado."
   ]
  },
  {
   "cell_type": "code",
   "execution_count": 25,
   "metadata": {},
   "outputs": [
    {
     "name": "stdout",
     "output_type": "stream",
     "text": [
      "Wall time: 156 ms\n"
     ]
    }
   ],
   "source": [
    "%%time\n",
    "clf = KNeighborsClassifier(5)\n",
    "clf.fit(features, y_train)"
   ]
  },
  {
   "cell_type": "markdown",
   "metadata": {},
   "source": [
    "# Fase de teste do modelo proposto"
   ]
  },
  {
   "cell_type": "code",
   "execution_count": 26,
   "metadata": {},
   "outputs": [],
   "source": [
    "pred_y = clf.predict(features_test)"
   ]
  },
  {
   "cell_type": "markdown",
   "metadata": {},
   "source": [
    "## Acurácia"
   ]
  },
  {
   "cell_type": "code",
   "execution_count": 27,
   "metadata": {},
   "outputs": [
    {
     "data": {
      "text/plain": [
       "0.9775"
      ]
     },
     "execution_count": 27,
     "metadata": {},
     "output_type": "execute_result"
    }
   ],
   "source": [
    "accuracy_score(y_test, pred_y)"
   ]
  },
  {
   "cell_type": "markdown",
   "metadata": {},
   "source": [
    "## Matriz de confusão"
   ]
  },
  {
   "cell_type": "code",
   "execution_count": 28,
   "metadata": {},
   "outputs": [
    {
     "data": {
      "text/plain": [
       "array([[384,  16],\n",
       "       [  2, 398]], dtype=int64)"
      ]
     },
     "execution_count": 28,
     "metadata": {},
     "output_type": "execute_result"
    }
   ],
   "source": [
    "confusion_matrix(y_test, pred_y)"
   ]
  },
  {
   "cell_type": "markdown",
   "metadata": {},
   "source": [
    "## Desenpenho na predição\n",
    "\n",
    "Uma vez que foi possível medir a qualidade da previsão é necessário medir a velocidade em que uma previsão é feita, para isso iremos tirar uma media do tempo que leva para classificar uma unica imagem."
   ]
  },
  {
   "cell_type": "code",
   "execution_count": 29,
   "metadata": {},
   "outputs": [],
   "source": [
    "single_image = X_test[0:1]"
   ]
  },
  {
   "cell_type": "code",
   "execution_count": 30,
   "metadata": {},
   "outputs": [
    {
     "data": {
      "text/plain": [
       "<matplotlib.image.AxesImage at 0x1d23d7704a8>"
      ]
     },
     "execution_count": 30,
     "metadata": {},
     "output_type": "execute_result"
    },
    {
     "data": {
      "image/png": "[encoded data removed]",
      "text/plain": [
       "<Figure size 432x288 with 1 Axes>"
      ]
     },
     "metadata": {},
     "output_type": "display_data"
    }
   ],
   "source": [
    "plt.imshow(single_image[0])"
   ]
  },
  {
   "cell_type": "code",
   "execution_count": 31,
   "metadata": {},
   "outputs": [
    {
     "name": "stdout",
     "output_type": "stream",
     "text": [
      "Classificação: dog\n"
     ]
    }
   ],
   "source": [
    "print(\"Classificação: \" + clf.predict(deep_featuring_model.predict(single_image))[0])"
   ]
  },
  {
   "cell_type": "code",
   "execution_count": 32,
   "metadata": {
    "scrolled": true
   },
   "outputs": [
    {
     "name": "stdout",
     "output_type": "stream",
     "text": [
      "550 ms ± 18.3 ms per loop (mean ± std. dev. of 7 runs, 1 loop each)\n"
     ]
    }
   ],
   "source": [
    "%%timeit\n",
    "clf.predict(deep_featuring_model.predict(single_image))"
   ]
  },
  {
   "cell_type": "markdown",
   "metadata": {},
   "source": [
    "# Modelo de comparação\n",
    "\n",
    "Apesar de os resultados acima serem bem animadores é necessário compara-los com outras abordagens, por isso iremos criar um outro modelo que ira desempenhar a mesma tarefa porem com uma abordagem mais comum, utilizaremos o mesmo modelo pretreinado sem algumas camadas porem desta vez adicionaremos mais camadas no fianl da rede neural e treinaremos apenas esssas novas camadas."
   ]
  },
  {
   "cell_type": "markdown",
   "metadata": {},
   "source": [
    "## Monstagem do modelo"
   ]
  },
  {
   "cell_type": "code",
   "execution_count": 42,
   "metadata": {},
   "outputs": [],
   "source": [
    "comp_base_model = iv3.InceptionV3(weights='imagenet', include_top=False)"
   ]
  },
  {
   "cell_type": "markdown",
   "metadata": {},
   "source": [
    "Agora que ja possuimos o modelo sem suas ultimas camadas é necessário adicionar as novas camadas e congelar as demais camadas para evitar que os seus pesos sejam atualizados, isso sera feitos nas proximas duas celulas"
   ]
  },
  {
   "cell_type": "code",
   "execution_count": 43,
   "metadata": {},
   "outputs": [],
   "source": [
    "x = comp_base_model.output\n",
    "x = GlobalAveragePooling2D()(x)\n",
    "x = Dense(64, activation='relu')(x)\n",
    "predictions = Dense(2, activation='softmax')(x)\n",
    "\n",
    "comp_model = Model(inputs=comp_base_model.input, outputs=predictions)"
   ]
  },
  {
   "cell_type": "code",
   "execution_count": 44,
   "metadata": {},
   "outputs": [],
   "source": [
    "for layer in comp_base_model.layers:\n",
    "    layer.trainable = False"
   ]
  },
  {
   "cell_type": "markdown",
   "metadata": {},
   "source": [
    "## Treninamento"
   ]
  },
  {
   "cell_type": "code",
   "execution_count": 45,
   "metadata": {},
   "outputs": [],
   "source": [
    "comp_model.compile(optimizer='rmsprop', loss='categorical_crossentropy', metrics=['accuracy'])"
   ]
  },
  {
   "cell_type": "code",
   "execution_count": 46,
   "metadata": {
    "scrolled": true
   },
   "outputs": [
    {
     "name": "stdout",
     "output_type": "stream",
     "text": [
      "Epoch 1/50\n",
      "20/20 [==============================] - 10s 492ms/step - loss: 0.7193 - acc: 0.4500\n",
      "Epoch 2/50\n",
      "20/20 [==============================] - 7s 357ms/step - loss: 3.3422 - acc: 0.5000\n",
      "Epoch 3/50\n",
      "20/20 [==============================] - 7s 356ms/step - loss: 0.4995 - acc: 0.5000\n",
      "Epoch 4/50\n",
      "20/20 [==============================] - 7s 359ms/step - loss: 0.4765 - acc: 0.6500\n",
      "Epoch 5/50\n",
      "20/20 [==============================] - 7s 362ms/step - loss: 0.2671 - acc: 1.0000\n",
      "Epoch 6/50\n",
      "20/20 [==============================] - 7s 358ms/step - loss: 0.1624 - acc: 1.0000\n",
      "Epoch 7/50\n",
      "20/20 [==============================] - 7s 357ms/step - loss: 0.1176 - acc: 1.0000\n",
      "Epoch 8/50\n",
      "20/20 [==============================] - 7s 359ms/step - loss: 0.0907 - acc: 1.0000\n",
      "Epoch 9/50\n",
      "20/20 [==============================] - 7s 359ms/step - loss: 0.0746 - acc: 1.0000\n",
      "Epoch 10/50\n",
      "20/20 [==============================] - 8s 381ms/step - loss: 0.0636 - acc: 1.0000\n",
      "Epoch 11/50\n",
      "20/20 [==============================] - 7s 355ms/step - loss: 0.0557 - acc: 1.0000\n",
      "Epoch 12/50\n",
      "20/20 [==============================] - 7s 355ms/step - loss: 0.0488 - acc: 1.0000\n",
      "Epoch 13/50\n",
      "20/20 [==============================] - 7s 358ms/step - loss: 0.0430 - acc: 1.0000\n",
      "Epoch 14/50\n",
      "20/20 [==============================] - 7s 355ms/step - loss: 0.0379 - acc: 1.0000\n",
      "Epoch 15/50\n",
      "20/20 [==============================] - 7s 361ms/step - loss: 0.0337 - acc: 1.0000\n",
      "Epoch 16/50\n",
      "20/20 [==============================] - 7s 358ms/step - loss: 0.0301 - acc: 1.0000\n",
      "Epoch 17/50\n",
      "20/20 [==============================] - 7s 360ms/step - loss: 0.0271 - acc: 1.0000\n",
      "Epoch 18/50\n",
      "20/20 [==============================] - 8s 383ms/step - loss: 0.0245 - acc: 1.0000\n",
      "Epoch 19/50\n",
      "20/20 [==============================] - 7s 359ms/step - loss: 0.0223 - acc: 1.0000\n",
      "Epoch 20/50\n",
      "20/20 [==============================] - 7s 367ms/step - loss: 0.0203 - acc: 1.0000\n",
      "Epoch 21/50\n",
      "20/20 [==============================] - 7s 369ms/step - loss: 0.0186 - acc: 1.0000\n",
      "Epoch 22/50\n",
      "20/20 [==============================] - 7s 356ms/step - loss: 0.0170 - acc: 1.0000\n",
      "Epoch 23/50\n",
      "20/20 [==============================] - 7s 355ms/step - loss: 0.0156 - acc: 1.0000\n",
      "Epoch 24/50\n",
      "20/20 [==============================] - 7s 356ms/step - loss: 0.0143 - acc: 1.0000\n",
      "Epoch 25/50\n",
      "20/20 [==============================] - 7s 357ms/step - loss: 0.0132 - acc: 1.0000\n",
      "Epoch 26/50\n",
      "20/20 [==============================] - 7s 359ms/step - loss: 0.0121 - acc: 1.0000\n",
      "Epoch 27/50\n",
      "20/20 [==============================] - 7s 359ms/step - loss: 0.0112 - acc: 1.0000\n",
      "Epoch 28/50\n",
      "20/20 [==============================] - 7s 355ms/step - loss: 0.0103 - acc: 1.0000\n",
      "Epoch 29/50\n",
      "20/20 [==============================] - 7s 359ms/step - loss: 0.0095 - acc: 1.0000\n",
      "Epoch 30/50\n",
      "20/20 [==============================] - 7s 362ms/step - loss: 0.0088 - acc: 1.0000\n",
      "Epoch 31/50\n",
      "20/20 [==============================] - 7s 358ms/step - loss: 0.0081 - acc: 1.0000\n",
      "Epoch 32/50\n",
      "20/20 [==============================] - 7s 365ms/step - loss: 0.0075 - acc: 1.0000\n",
      "Epoch 33/50\n",
      "20/20 [==============================] - 7s 360ms/step - loss: 0.0069 - acc: 1.0000\n",
      "Epoch 34/50\n",
      "20/20 [==============================] - 7s 356ms/step - loss: 0.0064 - acc: 1.0000\n",
      "Epoch 35/50\n",
      "20/20 [==============================] - 7s 357ms/step - loss: 0.0060 - acc: 1.0000\n",
      "Epoch 36/50\n",
      "20/20 [==============================] - 7s 354ms/step - loss: 0.0056 - acc: 1.0000\n",
      "Epoch 37/50\n",
      "20/20 [==============================] - 7s 357ms/step - loss: 0.0052 - acc: 1.0000\n",
      "Epoch 38/50\n",
      "20/20 [==============================] - 7s 357ms/step - loss: 0.0049 - acc: 1.0000\n",
      "Epoch 39/50\n",
      "20/20 [==============================] - 7s 356ms/step - loss: 0.0046 - acc: 1.0000\n",
      "Epoch 40/50\n",
      "20/20 [==============================] - 7s 355ms/step - loss: 0.0043 - acc: 1.0000\n",
      "Epoch 41/50\n",
      "20/20 [==============================] - 7s 358ms/step - loss: 0.0040 - acc: 1.0000\n",
      "Epoch 42/50\n",
      "20/20 [==============================] - 7s 358ms/step - loss: 0.0037 - acc: 1.0000\n",
      "Epoch 43/50\n",
      "20/20 [==============================] - 7s 352ms/step - loss: 0.0035 - acc: 1.0000\n",
      "Epoch 44/50\n",
      "20/20 [==============================] - 7s 358ms/step - loss: 0.0033 - acc: 1.0000\n",
      "Epoch 45/50\n",
      "20/20 [==============================] - 7s 359ms/step - loss: 0.0031 - acc: 1.0000\n",
      "Epoch 46/50\n",
      "20/20 [==============================] - 7s 367ms/step - loss: 0.0029 - acc: 1.0000\n",
      "Epoch 47/50\n",
      "20/20 [==============================] - 7s 359ms/step - loss: 0.0027 - acc: 1.0000\n",
      "Epoch 48/50\n",
      "20/20 [==============================] - 7s 359ms/step - loss: 0.0026 - acc: 1.0000\n",
      "Epoch 49/50\n",
      "20/20 [==============================] - 7s 355ms/step - loss: 0.0024 - acc: 1.0000\n",
      "Epoch 50/50\n",
      "20/20 [==============================] - 7s 357ms/step - loss: 0.0023 - acc: 1.0000\n",
      "Wall time: 6min 2s\n"
     ]
    },
    {
     "data": {
      "text/plain": [
       "<keras.callbacks.History at 0x1d25c9c5278>"
      ]
     },
     "execution_count": 46,
     "metadata": {},
     "output_type": "execute_result"
    }
   ],
   "source": [
    "%%time\n",
    "comp_model.fit(X_train, raw_y_train, epochs=50)"
   ]
  },
  {
   "cell_type": "code",
   "execution_count": 47,
   "metadata": {},
   "outputs": [
    {
     "name": "stdout",
     "output_type": "stream",
     "text": [
      "Wall time: 5min 44s\n"
     ]
    }
   ],
   "source": [
    "%%time\n",
    "comp_pred_y = comp_model.predict(X_test)"
   ]
  },
  {
   "cell_type": "code",
   "execution_count": 48,
   "metadata": {},
   "outputs": [],
   "source": [
    "new_comp_pred_y = get_array_classes(comp_pred_y)\n",
    "new_comp_y_test = get_array_classes(y_test)"
   ]
  },
  {
   "cell_type": "markdown",
   "metadata": {},
   "source": [
    "## Testes do modelo"
   ]
  },
  {
   "cell_type": "code",
   "execution_count": 49,
   "metadata": {},
   "outputs": [
    {
     "data": {
      "text/plain": [
       "0.94625"
      ]
     },
     "execution_count": 49,
     "metadata": {},
     "output_type": "execute_result"
    }
   ],
   "source": [
    "accuracy_score(new_comp_pred_y, new_comp_y_test)"
   ]
  },
  {
   "cell_type": "code",
   "execution_count": 50,
   "metadata": {},
   "outputs": [
    {
     "data": {
      "text/plain": [
       "array([[395,  38],\n",
       "       [  5, 362]], dtype=int64)"
      ]
     },
     "execution_count": 50,
     "metadata": {},
     "output_type": "execute_result"
    }
   ],
   "source": [
    "confusion_matrix(new_comp_pred_y, new_comp_y_test)"
   ]
  },
  {
   "cell_type": "markdown",
   "metadata": {},
   "source": [
    "## Desenpenho na previsão"
   ]
  },
  {
   "cell_type": "code",
   "execution_count": 51,
   "metadata": {},
   "outputs": [
    {
     "name": "stdout",
     "output_type": "stream",
     "text": [
      "496 ms ± 21.1 ms per loop (mean ± std. dev. of 7 runs, 1 loop each)\n"
     ]
    }
   ],
   "source": [
    "%%timeit\n",
    "comp_model.predict(single_image)"
   ]
  },
  {
   "cell_type": "markdown",
   "metadata": {},
   "source": [
    "# Considerações finais"
   ]
  },
  {
   "cell_type": "markdown",
   "metadata": {},
   "source": [
    "Apesar de as diferenças de desempenho serem grintantes é importante ter em mente que esses resultados não são absolutos, algumas modificações simples no treinamento do segundo modelo, como usar imagens com dimensões menores por exemplo, gerariam resultados muito mais proximos do que foi visto no modelo proposto.\n",
    "\n",
    "O tempo de previsão é outro fator que deve ser levado em consideração, o modelo proposto levou pouco mais de meio segundo para classificar uma imagem, apesar de ter mostrado uma acuracia satisfatória ele se mostrou mutio lento e portando seu uso em tarefaza como analese video em tempo real é desencorajado."
   ]
  },
  {
   "cell_type": "markdown",
   "metadata": {},
   "source": [
    "# Informações adicionais\n",
    "\n",
    "Especificações do computador utilizado nos testes:\n",
    "\n",
    "- Processador: Intel(R) Core(TM) i7-7700HQ CPU @ 2.80GHz 2.81GHz\n",
    "- RAM: 8.00 GB\n",
    "- SO: Windows 10 Home Single Language\n",
    "\n",
    "Todos os testes foram realizados utilizando apenas a CPU"
   ]
  }
 ],
 "metadata": {
  "kernelspec": {
   "display_name": "Python 3",
   "language": "python",
   "name": "python3"
  },
  "language_info": {
   "codemirror_mode": {
    "name": "ipython",
    "version": 3
   },
   "file_extension": ".py",
   "mimetype": "text/x-python",
   "name": "python",
   "nbconvert_exporter": "python",
   "pygments_lexer": "ipython3",
   "version": "3.6.6"
  }
 },
 "nbformat": 4,
 "nbformat_minor": 2
}
